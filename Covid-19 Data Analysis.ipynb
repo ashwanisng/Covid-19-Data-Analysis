{
 "cells": [
  {
   "cell_type": "markdown",
   "metadata": {},
   "source": [
    "# Covid-19 Data Analysis(India)"
   ]
  },
  {
   "cell_type": "markdown",
   "metadata": {},
   "source": [
    "# Introduction -\n",
    "- Coronaviruses are a large family of viruses which may cause illness in animals or humans. In humans, several coronaviruses are known to cause respiratory infections ranging from the common cold to more severe diseases such as Middle East Respiratory Syndrome (MERS) and Severe Acute Respiratory Syndrome (SARS). The most recently discovered coronavirus causes coronavirus disease COVID-19 - World Health Organization\n",
    "\n",
    "**The number of new cases are increasing day by day around the world.**\n",
    "\n",
    "**Question that are from intrest are -**\n",
    "\n",
    "1) Which state has most number of Confirmed Cases, Cured Cases and Death Cases ?\n",
    "\n",
    "2) Mortality rate and Recovery Rate of Maharastra?\n",
    "\n",
    "3) Which Age group has Heigher and Lower chance of getting infected?\n",
    "\n",
    "4) Which state has better Public Health care facilities?\n",
    "\n",
    "5) Which state has heigher number of Public Beds?\n",
    "\n",
    "6) Which state has Heigher number of Beds avilable in urban areas and Rural areas?\n",
    "\n",
    "7) what are the number of people hospitalized, recoverd, Decased and Migrated?\n",
    "\n",
    "8) Which state has most number of sample testing on 12/07/2020?\n",
    "\n",
    "9) What percent of people are tested positive and negative?\n",
    "\n",
    "**DataSet Collected from -**   [COVID-19 in India]('https://www.kaggle.com/sudalairajkumar/covid19-in-india') \n"
   ]
  },
  {
   "cell_type": "code",
   "execution_count": 1,
   "metadata": {},
   "outputs": [],
   "source": [
    "# import libraries\n",
    "\n",
    "import numpy as np\n",
    "import pandas as pd\n",
    "import matplotlib.pyplot as plt\n",
    "import seaborn as sns\n"
   ]
  },
  {
   "cell_type": "markdown",
   "metadata": {},
   "source": [
    "# Data Wrangling\n",
    "\n",
    "##  DataSet Covid-19 India"
   ]
  },
  {
   "cell_type": "code",
   "execution_count": 2,
   "metadata": {},
   "outputs": [
    {
     "data": {
      "text/html": [
       "<div>\n",
       "<style scoped>\n",
       "    .dataframe tbody tr th:only-of-type {\n",
       "        vertical-align: middle;\n",
       "    }\n",
       "\n",
       "    .dataframe tbody tr th {\n",
       "        vertical-align: top;\n",
       "    }\n",
       "\n",
       "    .dataframe thead th {\n",
       "        text-align: right;\n",
       "    }\n",
       "</style>\n",
       "<table border=\"1\" class=\"dataframe\">\n",
       "  <thead>\n",
       "    <tr style=\"text-align: right;\">\n",
       "      <th></th>\n",
       "      <th>Sno</th>\n",
       "      <th>Date</th>\n",
       "      <th>Time</th>\n",
       "      <th>State/UnionTerritory</th>\n",
       "      <th>ConfirmedIndianNational</th>\n",
       "      <th>ConfirmedForeignNational</th>\n",
       "      <th>Cured</th>\n",
       "      <th>Deaths</th>\n",
       "      <th>Confirmed</th>\n",
       "    </tr>\n",
       "  </thead>\n",
       "  <tbody>\n",
       "    <tr>\n",
       "      <td>0</td>\n",
       "      <td>1</td>\n",
       "      <td>30/01/20</td>\n",
       "      <td>6:00 PM</td>\n",
       "      <td>Kerala</td>\n",
       "      <td>1</td>\n",
       "      <td>0</td>\n",
       "      <td>0</td>\n",
       "      <td>0</td>\n",
       "      <td>1</td>\n",
       "    </tr>\n",
       "    <tr>\n",
       "      <td>1</td>\n",
       "      <td>2</td>\n",
       "      <td>31/01/20</td>\n",
       "      <td>6:00 PM</td>\n",
       "      <td>Kerala</td>\n",
       "      <td>1</td>\n",
       "      <td>0</td>\n",
       "      <td>0</td>\n",
       "      <td>0</td>\n",
       "      <td>1</td>\n",
       "    </tr>\n",
       "    <tr>\n",
       "      <td>2</td>\n",
       "      <td>3</td>\n",
       "      <td>01/02/20</td>\n",
       "      <td>6:00 PM</td>\n",
       "      <td>Kerala</td>\n",
       "      <td>2</td>\n",
       "      <td>0</td>\n",
       "      <td>0</td>\n",
       "      <td>0</td>\n",
       "      <td>2</td>\n",
       "    </tr>\n",
       "    <tr>\n",
       "      <td>3</td>\n",
       "      <td>4</td>\n",
       "      <td>02/02/20</td>\n",
       "      <td>6:00 PM</td>\n",
       "      <td>Kerala</td>\n",
       "      <td>3</td>\n",
       "      <td>0</td>\n",
       "      <td>0</td>\n",
       "      <td>0</td>\n",
       "      <td>3</td>\n",
       "    </tr>\n",
       "    <tr>\n",
       "      <td>4</td>\n",
       "      <td>5</td>\n",
       "      <td>03/02/20</td>\n",
       "      <td>6:00 PM</td>\n",
       "      <td>Kerala</td>\n",
       "      <td>3</td>\n",
       "      <td>0</td>\n",
       "      <td>0</td>\n",
       "      <td>0</td>\n",
       "      <td>3</td>\n",
       "    </tr>\n",
       "  </tbody>\n",
       "</table>\n",
       "</div>"
      ],
      "text/plain": [
       "   Sno      Date     Time State/UnionTerritory ConfirmedIndianNational  \\\n",
       "0    1  30/01/20  6:00 PM               Kerala                       1   \n",
       "1    2  31/01/20  6:00 PM               Kerala                       1   \n",
       "2    3  01/02/20  6:00 PM               Kerala                       2   \n",
       "3    4  02/02/20  6:00 PM               Kerala                       3   \n",
       "4    5  03/02/20  6:00 PM               Kerala                       3   \n",
       "\n",
       "  ConfirmedForeignNational  Cured  Deaths  Confirmed  \n",
       "0                        0      0       0          1  \n",
       "1                        0      0       0          1  \n",
       "2                        0      0       0          2  \n",
       "3                        0      0       0          3  \n",
       "4                        0      0       0          3  "
      ]
     },
     "execution_count": 2,
     "metadata": {},
     "output_type": "execute_result"
    }
   ],
   "source": [
    "# read the csv \n",
    "\n",
    "df = pd.read_csv(\"Dataset/covid_19_india.csv\")\n",
    "df.head()"
   ]
  },
  {
   "cell_type": "code",
   "execution_count": 3,
   "metadata": {},
   "outputs": [
    {
     "name": "stdout",
     "output_type": "stream",
     "text": [
      " Number of row in the dataset are : 4071\n",
      " Number of column in the dataset are : 9\n"
     ]
    }
   ],
   "source": [
    "# Number of row and column in  the dataset\n",
    "\n",
    "print(\" Number of row in the dataset are :\", df.shape[0])\n",
    "print(\" Number of column in the dataset are :\", df.shape[1])"
   ]
  },
  {
   "cell_type": "code",
   "execution_count": 4,
   "metadata": {},
   "outputs": [
    {
     "name": "stdout",
     "output_type": "stream",
     "text": [
      "<class 'pandas.core.frame.DataFrame'>\n",
      "RangeIndex: 4071 entries, 0 to 4070\n",
      "Data columns (total 9 columns):\n",
      "Sno                         4071 non-null int64\n",
      "Date                        4071 non-null object\n",
      "Time                        4071 non-null object\n",
      "State/UnionTerritory        4071 non-null object\n",
      "ConfirmedIndianNational     4071 non-null object\n",
      "ConfirmedForeignNational    4071 non-null object\n",
      "Cured                       4071 non-null int64\n",
      "Deaths                      4071 non-null int64\n",
      "Confirmed                   4071 non-null int64\n",
      "dtypes: int64(4), object(5)\n",
      "memory usage: 286.4+ KB\n"
     ]
    }
   ],
   "source": [
    "# dataset info\n",
    "\n",
    "df.info()"
   ]
  },
  {
   "cell_type": "code",
   "execution_count": 5,
   "metadata": {},
   "outputs": [
    {
     "data": {
      "text/html": [
       "<div>\n",
       "<style scoped>\n",
       "    .dataframe tbody tr th:only-of-type {\n",
       "        vertical-align: middle;\n",
       "    }\n",
       "\n",
       "    .dataframe tbody tr th {\n",
       "        vertical-align: top;\n",
       "    }\n",
       "\n",
       "    .dataframe thead th {\n",
       "        text-align: right;\n",
       "    }\n",
       "</style>\n",
       "<table border=\"1\" class=\"dataframe\">\n",
       "  <thead>\n",
       "    <tr style=\"text-align: right;\">\n",
       "      <th></th>\n",
       "      <th>Sno</th>\n",
       "      <th>Cured</th>\n",
       "      <th>Deaths</th>\n",
       "      <th>Confirmed</th>\n",
       "    </tr>\n",
       "  </thead>\n",
       "  <tbody>\n",
       "    <tr>\n",
       "      <td>count</td>\n",
       "      <td>4071.000000</td>\n",
       "      <td>4071.000000</td>\n",
       "      <td>4071.000000</td>\n",
       "      <td>4071.000000</td>\n",
       "    </tr>\n",
       "    <tr>\n",
       "      <td>mean</td>\n",
       "      <td>2036.000000</td>\n",
       "      <td>3111.314910</td>\n",
       "      <td>168.402113</td>\n",
       "      <td>5732.080324</td>\n",
       "    </tr>\n",
       "    <tr>\n",
       "      <td>std</td>\n",
       "      <td>1175.340802</td>\n",
       "      <td>10887.115076</td>\n",
       "      <td>737.798086</td>\n",
       "      <td>19306.478679</td>\n",
       "    </tr>\n",
       "    <tr>\n",
       "      <td>min</td>\n",
       "      <td>1.000000</td>\n",
       "      <td>0.000000</td>\n",
       "      <td>0.000000</td>\n",
       "      <td>0.000000</td>\n",
       "    </tr>\n",
       "    <tr>\n",
       "      <td>25%</td>\n",
       "      <td>1018.500000</td>\n",
       "      <td>3.000000</td>\n",
       "      <td>0.000000</td>\n",
       "      <td>30.000000</td>\n",
       "    </tr>\n",
       "    <tr>\n",
       "      <td>50%</td>\n",
       "      <td>2036.000000</td>\n",
       "      <td>67.000000</td>\n",
       "      <td>3.000000</td>\n",
       "      <td>335.000000</td>\n",
       "    </tr>\n",
       "    <tr>\n",
       "      <td>75%</td>\n",
       "      <td>3053.500000</td>\n",
       "      <td>1386.500000</td>\n",
       "      <td>36.500000</td>\n",
       "      <td>3055.000000</td>\n",
       "    </tr>\n",
       "    <tr>\n",
       "      <td>max</td>\n",
       "      <td>4071.000000</td>\n",
       "      <td>140325.000000</td>\n",
       "      <td>10289.000000</td>\n",
       "      <td>254427.000000</td>\n",
       "    </tr>\n",
       "  </tbody>\n",
       "</table>\n",
       "</div>"
      ],
      "text/plain": [
       "               Sno          Cured        Deaths      Confirmed\n",
       "count  4071.000000    4071.000000   4071.000000    4071.000000\n",
       "mean   2036.000000    3111.314910    168.402113    5732.080324\n",
       "std    1175.340802   10887.115076    737.798086   19306.478679\n",
       "min       1.000000       0.000000      0.000000       0.000000\n",
       "25%    1018.500000       3.000000      0.000000      30.000000\n",
       "50%    2036.000000      67.000000      3.000000     335.000000\n",
       "75%    3053.500000    1386.500000     36.500000    3055.000000\n",
       "max    4071.000000  140325.000000  10289.000000  254427.000000"
      ]
     },
     "execution_count": 5,
     "metadata": {},
     "output_type": "execute_result"
    }
   ],
   "source": [
    "# dataset describe\n",
    "\n",
    "df.describe()"
   ]
  },
  {
   "cell_type": "code",
   "execution_count": 6,
   "metadata": {},
   "outputs": [
    {
     "data": {
      "text/plain": [
       "Sno                         0\n",
       "Date                        0\n",
       "Time                        0\n",
       "State/UnionTerritory        0\n",
       "ConfirmedIndianNational     0\n",
       "ConfirmedForeignNational    0\n",
       "Cured                       0\n",
       "Deaths                      0\n",
       "Confirmed                   0\n",
       "dtype: int64"
      ]
     },
     "execution_count": 6,
     "metadata": {},
     "output_type": "execute_result"
    }
   ],
   "source": [
    "# check weather dataset contain any null values\n",
    "\n",
    "df.isnull().sum()"
   ]
  },
  {
   "cell_type": "code",
   "execution_count": 7,
   "metadata": {},
   "outputs": [
    {
     "name": "stdout",
     "output_type": "stream",
     "text": [
      "Number of duplicate value in the dataset are : 0\n"
     ]
    }
   ],
   "source": [
    "# check dataset contain any duplicate value\n",
    "\n",
    "print(\"Number of duplicate value in the dataset are :\", sum(df.duplicated()))"
   ]
  },
  {
   "cell_type": "code",
   "execution_count": 8,
   "metadata": {},
   "outputs": [
    {
     "data": {
      "text/html": [
       "<div>\n",
       "<style scoped>\n",
       "    .dataframe tbody tr th:only-of-type {\n",
       "        vertical-align: middle;\n",
       "    }\n",
       "\n",
       "    .dataframe tbody tr th {\n",
       "        vertical-align: top;\n",
       "    }\n",
       "\n",
       "    .dataframe thead th {\n",
       "        text-align: right;\n",
       "    }\n",
       "</style>\n",
       "<table border=\"1\" class=\"dataframe\">\n",
       "  <thead>\n",
       "    <tr style=\"text-align: right;\">\n",
       "      <th></th>\n",
       "      <th>Sno</th>\n",
       "      <th>Date</th>\n",
       "      <th>Time</th>\n",
       "      <th>State/UnionTerritory</th>\n",
       "      <th>Cured</th>\n",
       "      <th>Deaths</th>\n",
       "      <th>Confirmed</th>\n",
       "    </tr>\n",
       "  </thead>\n",
       "  <tbody>\n",
       "    <tr>\n",
       "      <td>0</td>\n",
       "      <td>1</td>\n",
       "      <td>30/01/20</td>\n",
       "      <td>6:00 PM</td>\n",
       "      <td>Kerala</td>\n",
       "      <td>0</td>\n",
       "      <td>0</td>\n",
       "      <td>1</td>\n",
       "    </tr>\n",
       "    <tr>\n",
       "      <td>1</td>\n",
       "      <td>2</td>\n",
       "      <td>31/01/20</td>\n",
       "      <td>6:00 PM</td>\n",
       "      <td>Kerala</td>\n",
       "      <td>0</td>\n",
       "      <td>0</td>\n",
       "      <td>1</td>\n",
       "    </tr>\n",
       "    <tr>\n",
       "      <td>2</td>\n",
       "      <td>3</td>\n",
       "      <td>01/02/20</td>\n",
       "      <td>6:00 PM</td>\n",
       "      <td>Kerala</td>\n",
       "      <td>0</td>\n",
       "      <td>0</td>\n",
       "      <td>2</td>\n",
       "    </tr>\n",
       "    <tr>\n",
       "      <td>3</td>\n",
       "      <td>4</td>\n",
       "      <td>02/02/20</td>\n",
       "      <td>6:00 PM</td>\n",
       "      <td>Kerala</td>\n",
       "      <td>0</td>\n",
       "      <td>0</td>\n",
       "      <td>3</td>\n",
       "    </tr>\n",
       "    <tr>\n",
       "      <td>4</td>\n",
       "      <td>5</td>\n",
       "      <td>03/02/20</td>\n",
       "      <td>6:00 PM</td>\n",
       "      <td>Kerala</td>\n",
       "      <td>0</td>\n",
       "      <td>0</td>\n",
       "      <td>3</td>\n",
       "    </tr>\n",
       "  </tbody>\n",
       "</table>\n",
       "</div>"
      ],
      "text/plain": [
       "   Sno      Date     Time State/UnionTerritory  Cured  Deaths  Confirmed\n",
       "0    1  30/01/20  6:00 PM               Kerala      0       0          1\n",
       "1    2  31/01/20  6:00 PM               Kerala      0       0          1\n",
       "2    3  01/02/20  6:00 PM               Kerala      0       0          2\n",
       "3    4  02/02/20  6:00 PM               Kerala      0       0          3\n",
       "4    5  03/02/20  6:00 PM               Kerala      0       0          3"
      ]
     },
     "execution_count": 8,
     "metadata": {},
     "output_type": "execute_result"
    }
   ],
   "source": [
    "# Remove the unneccesary column in the dataset\n",
    "\n",
    "df_new = df.drop(['ConfirmedIndianNational', 'ConfirmedForeignNational'], axis = 1)\n",
    "\n",
    "df_new.head()"
   ]
  },
  {
   "cell_type": "code",
   "execution_count": 9,
   "metadata": {},
   "outputs": [],
   "source": [
    "# select the data of date 10/07/20\n",
    "\n",
    "covid_new = df_new[df_new['Date'] == '10/07/20']"
   ]
  },
  {
   "cell_type": "markdown",
   "metadata": {},
   "source": [
    "### Q1) Which state has most number of Confirmed Cases, Cured Cases and Death Cases ?"
   ]
  },
  {
   "cell_type": "markdown",
   "metadata": {},
   "source": [
    "#### Which state has most number of Confirmed Cases?"
   ]
  },
  {
   "cell_type": "code",
   "execution_count": 10,
   "metadata": {},
   "outputs": [
    {
     "data": {
      "text/html": [
       "<div>\n",
       "<style scoped>\n",
       "    .dataframe tbody tr th:only-of-type {\n",
       "        vertical-align: middle;\n",
       "    }\n",
       "\n",
       "    .dataframe tbody tr th {\n",
       "        vertical-align: top;\n",
       "    }\n",
       "\n",
       "    .dataframe thead th {\n",
       "        text-align: right;\n",
       "    }\n",
       "</style>\n",
       "<table border=\"1\" class=\"dataframe\">\n",
       "  <thead>\n",
       "    <tr style=\"text-align: right;\">\n",
       "      <th></th>\n",
       "      <th>Sno</th>\n",
       "      <th>Date</th>\n",
       "      <th>Time</th>\n",
       "      <th>State/UnionTerritory</th>\n",
       "      <th>Cured</th>\n",
       "      <th>Deaths</th>\n",
       "      <th>Confirmed</th>\n",
       "    </tr>\n",
       "  </thead>\n",
       "  <tbody>\n",
       "    <tr>\n",
       "      <td>3946</td>\n",
       "      <td>3947</td>\n",
       "      <td>10/07/20</td>\n",
       "      <td>8:00 AM</td>\n",
       "      <td>Maharashtra</td>\n",
       "      <td>127259</td>\n",
       "      <td>9667</td>\n",
       "      <td>230599</td>\n",
       "    </tr>\n",
       "    <tr>\n",
       "      <td>3956</td>\n",
       "      <td>3957</td>\n",
       "      <td>10/07/20</td>\n",
       "      <td>8:00 AM</td>\n",
       "      <td>Tamil Nadu</td>\n",
       "      <td>78161</td>\n",
       "      <td>1765</td>\n",
       "      <td>126581</td>\n",
       "    </tr>\n",
       "    <tr>\n",
       "      <td>3935</td>\n",
       "      <td>3936</td>\n",
       "      <td>10/07/20</td>\n",
       "      <td>8:00 AM</td>\n",
       "      <td>Delhi</td>\n",
       "      <td>82226</td>\n",
       "      <td>3258</td>\n",
       "      <td>107051</td>\n",
       "    </tr>\n",
       "    <tr>\n",
       "      <td>3937</td>\n",
       "      <td>3938</td>\n",
       "      <td>10/07/20</td>\n",
       "      <td>8:00 AM</td>\n",
       "      <td>Gujarat</td>\n",
       "      <td>27718</td>\n",
       "      <td>2008</td>\n",
       "      <td>39194</td>\n",
       "    </tr>\n",
       "    <tr>\n",
       "      <td>3960</td>\n",
       "      <td>3961</td>\n",
       "      <td>10/07/20</td>\n",
       "      <td>8:00 AM</td>\n",
       "      <td>Uttar Pradesh</td>\n",
       "      <td>21127</td>\n",
       "      <td>862</td>\n",
       "      <td>32362</td>\n",
       "    </tr>\n",
       "    <tr>\n",
       "      <td>3942</td>\n",
       "      <td>3943</td>\n",
       "      <td>10/07/20</td>\n",
       "      <td>8:00 AM</td>\n",
       "      <td>Karnataka</td>\n",
       "      <td>12833</td>\n",
       "      <td>486</td>\n",
       "      <td>31105</td>\n",
       "    </tr>\n",
       "    <tr>\n",
       "      <td>3957</td>\n",
       "      <td>3958</td>\n",
       "      <td>10/07/20</td>\n",
       "      <td>8:00 AM</td>\n",
       "      <td>Telangana</td>\n",
       "      <td>18192</td>\n",
       "      <td>331</td>\n",
       "      <td>30946</td>\n",
       "    </tr>\n",
       "    <tr>\n",
       "      <td>3961</td>\n",
       "      <td>3962</td>\n",
       "      <td>10/07/20</td>\n",
       "      <td>8:00 AM</td>\n",
       "      <td>West Bengal</td>\n",
       "      <td>16826</td>\n",
       "      <td>854</td>\n",
       "      <td>25911</td>\n",
       "    </tr>\n",
       "    <tr>\n",
       "      <td>3928</td>\n",
       "      <td>3929</td>\n",
       "      <td>10/07/20</td>\n",
       "      <td>8:00 AM</td>\n",
       "      <td>Andhra Pradesh</td>\n",
       "      <td>12154</td>\n",
       "      <td>277</td>\n",
       "      <td>23814</td>\n",
       "    </tr>\n",
       "    <tr>\n",
       "      <td>3954</td>\n",
       "      <td>3955</td>\n",
       "      <td>10/07/20</td>\n",
       "      <td>8:00 AM</td>\n",
       "      <td>Rajasthan</td>\n",
       "      <td>17070</td>\n",
       "      <td>491</td>\n",
       "      <td>22563</td>\n",
       "    </tr>\n",
       "  </tbody>\n",
       "</table>\n",
       "</div>"
      ],
      "text/plain": [
       "       Sno      Date     Time State/UnionTerritory   Cured  Deaths  Confirmed\n",
       "3946  3947  10/07/20  8:00 AM          Maharashtra  127259    9667     230599\n",
       "3956  3957  10/07/20  8:00 AM           Tamil Nadu   78161    1765     126581\n",
       "3935  3936  10/07/20  8:00 AM                Delhi   82226    3258     107051\n",
       "3937  3938  10/07/20  8:00 AM              Gujarat   27718    2008      39194\n",
       "3960  3961  10/07/20  8:00 AM        Uttar Pradesh   21127     862      32362\n",
       "3942  3943  10/07/20  8:00 AM            Karnataka   12833     486      31105\n",
       "3957  3958  10/07/20  8:00 AM            Telangana   18192     331      30946\n",
       "3961  3962  10/07/20  8:00 AM          West Bengal   16826     854      25911\n",
       "3928  3929  10/07/20  8:00 AM       Andhra Pradesh   12154     277      23814\n",
       "3954  3955  10/07/20  8:00 AM            Rajasthan   17070     491      22563"
      ]
     },
     "execution_count": 10,
     "metadata": {},
     "output_type": "execute_result"
    }
   ],
   "source": [
    "# sort the dataset of top 10 state with most confirmed cases on 10/07/20\n",
    "\n",
    "covid_new.sort_values(by='Confirmed', ascending=False)[:10]"
   ]
  },
  {
   "cell_type": "code",
   "execution_count": 92,
   "metadata": {},
   "outputs": [
    {
     "data": {
      "text/plain": [
       "<matplotlib.axes._subplots.AxesSubplot at 0x1bac7b6fe08>"
      ]
     },
     "execution_count": 92,
     "metadata": {},
     "output_type": "execute_result"
    },
    {
     "data": {
      "image/png": "[encoded data removed]",
      "text/plain": [
       "<Figure size 864x432 with 1 Axes>"
      ]
     },
     "metadata": {
      "needs_background": "light"
     },
     "output_type": "display_data"
    }
   ],
   "source": [
    "# plot the bar graph of top 10 state with most number of confirmed cases on 10/07/20\n",
    "\n",
    "covid_new.sort_values(by=\"Confirmed\", ascending=False)[:10].plot(x='State/UnionTerritory',y='Confirmed',kind='bar', figsize=(12,6))\n"
   ]
  },
  {
   "cell_type": "markdown",
   "metadata": {},
   "source": [
    "- **Maharashtra has most number of confirmed cases 230599 on 10/07/2020**"
   ]
  },
  {
   "cell_type": "markdown",
   "metadata": {},
   "source": [
    "#### Which state has most number of Deaths Cases?"
   ]
  },
  {
   "cell_type": "code",
   "execution_count": 11,
   "metadata": {},
   "outputs": [
    {
     "data": {
      "text/html": [
       "<div>\n",
       "<style scoped>\n",
       "    .dataframe tbody tr th:only-of-type {\n",
       "        vertical-align: middle;\n",
       "    }\n",
       "\n",
       "    .dataframe tbody tr th {\n",
       "        vertical-align: top;\n",
       "    }\n",
       "\n",
       "    .dataframe thead th {\n",
       "        text-align: right;\n",
       "    }\n",
       "</style>\n",
       "<table border=\"1\" class=\"dataframe\">\n",
       "  <thead>\n",
       "    <tr style=\"text-align: right;\">\n",
       "      <th></th>\n",
       "      <th>Sno</th>\n",
       "      <th>Date</th>\n",
       "      <th>Time</th>\n",
       "      <th>State/UnionTerritory</th>\n",
       "      <th>Cured</th>\n",
       "      <th>Deaths</th>\n",
       "      <th>Confirmed</th>\n",
       "    </tr>\n",
       "  </thead>\n",
       "  <tbody>\n",
       "    <tr>\n",
       "      <td>3946</td>\n",
       "      <td>3947</td>\n",
       "      <td>10/07/20</td>\n",
       "      <td>8:00 AM</td>\n",
       "      <td>Maharashtra</td>\n",
       "      <td>127259</td>\n",
       "      <td>9667</td>\n",
       "      <td>230599</td>\n",
       "    </tr>\n",
       "    <tr>\n",
       "      <td>3935</td>\n",
       "      <td>3936</td>\n",
       "      <td>10/07/20</td>\n",
       "      <td>8:00 AM</td>\n",
       "      <td>Delhi</td>\n",
       "      <td>82226</td>\n",
       "      <td>3258</td>\n",
       "      <td>107051</td>\n",
       "    </tr>\n",
       "    <tr>\n",
       "      <td>3937</td>\n",
       "      <td>3938</td>\n",
       "      <td>10/07/20</td>\n",
       "      <td>8:00 AM</td>\n",
       "      <td>Gujarat</td>\n",
       "      <td>27718</td>\n",
       "      <td>2008</td>\n",
       "      <td>39194</td>\n",
       "    </tr>\n",
       "    <tr>\n",
       "      <td>3956</td>\n",
       "      <td>3957</td>\n",
       "      <td>10/07/20</td>\n",
       "      <td>8:00 AM</td>\n",
       "      <td>Tamil Nadu</td>\n",
       "      <td>78161</td>\n",
       "      <td>1765</td>\n",
       "      <td>126581</td>\n",
       "    </tr>\n",
       "    <tr>\n",
       "      <td>3960</td>\n",
       "      <td>3961</td>\n",
       "      <td>10/07/20</td>\n",
       "      <td>8:00 AM</td>\n",
       "      <td>Uttar Pradesh</td>\n",
       "      <td>21127</td>\n",
       "      <td>862</td>\n",
       "      <td>32362</td>\n",
       "    </tr>\n",
       "    <tr>\n",
       "      <td>3961</td>\n",
       "      <td>3962</td>\n",
       "      <td>10/07/20</td>\n",
       "      <td>8:00 AM</td>\n",
       "      <td>West Bengal</td>\n",
       "      <td>16826</td>\n",
       "      <td>854</td>\n",
       "      <td>25911</td>\n",
       "    </tr>\n",
       "    <tr>\n",
       "      <td>3945</td>\n",
       "      <td>3946</td>\n",
       "      <td>10/07/20</td>\n",
       "      <td>8:00 AM</td>\n",
       "      <td>Madhya Pradesh</td>\n",
       "      <td>12232</td>\n",
       "      <td>634</td>\n",
       "      <td>16341</td>\n",
       "    </tr>\n",
       "    <tr>\n",
       "      <td>3954</td>\n",
       "      <td>3955</td>\n",
       "      <td>10/07/20</td>\n",
       "      <td>8:00 AM</td>\n",
       "      <td>Rajasthan</td>\n",
       "      <td>17070</td>\n",
       "      <td>491</td>\n",
       "      <td>22563</td>\n",
       "    </tr>\n",
       "    <tr>\n",
       "      <td>3942</td>\n",
       "      <td>3943</td>\n",
       "      <td>10/07/20</td>\n",
       "      <td>8:00 AM</td>\n",
       "      <td>Karnataka</td>\n",
       "      <td>12833</td>\n",
       "      <td>486</td>\n",
       "      <td>31105</td>\n",
       "    </tr>\n",
       "    <tr>\n",
       "      <td>3957</td>\n",
       "      <td>3958</td>\n",
       "      <td>10/07/20</td>\n",
       "      <td>8:00 AM</td>\n",
       "      <td>Telangana</td>\n",
       "      <td>18192</td>\n",
       "      <td>331</td>\n",
       "      <td>30946</td>\n",
       "    </tr>\n",
       "  </tbody>\n",
       "</table>\n",
       "</div>"
      ],
      "text/plain": [
       "       Sno      Date     Time State/UnionTerritory   Cured  Deaths  Confirmed\n",
       "3946  3947  10/07/20  8:00 AM          Maharashtra  127259    9667     230599\n",
       "3935  3936  10/07/20  8:00 AM                Delhi   82226    3258     107051\n",
       "3937  3938  10/07/20  8:00 AM              Gujarat   27718    2008      39194\n",
       "3956  3957  10/07/20  8:00 AM           Tamil Nadu   78161    1765     126581\n",
       "3960  3961  10/07/20  8:00 AM        Uttar Pradesh   21127     862      32362\n",
       "3961  3962  10/07/20  8:00 AM          West Bengal   16826     854      25911\n",
       "3945  3946  10/07/20  8:00 AM       Madhya Pradesh   12232     634      16341\n",
       "3954  3955  10/07/20  8:00 AM            Rajasthan   17070     491      22563\n",
       "3942  3943  10/07/20  8:00 AM            Karnataka   12833     486      31105\n",
       "3957  3958  10/07/20  8:00 AM            Telangana   18192     331      30946"
      ]
     },
     "execution_count": 11,
     "metadata": {},
     "output_type": "execute_result"
    }
   ],
   "source": [
    "# sort the dataset of top 10 state with most Death cases on 10/07/20\n",
    "\n",
    "covid_new.sort_values(by=\"Deaths\", ascending=False)[:10]\n"
   ]
  },
  {
   "cell_type": "code",
   "execution_count": 70,
   "metadata": {},
   "outputs": [
    {
     "data": {
      "text/plain": [
       "<matplotlib.axes._subplots.AxesSubplot at 0x1bac7a69b88>"
      ]
     },
     "execution_count": 70,
     "metadata": {},
     "output_type": "execute_result"
    },
    {
     "data": {
      "image/png": "[encoded data removed]",
      "text/plain": [
       "<Figure size 720x360 with 1 Axes>"
      ]
     },
     "metadata": {
      "needs_background": "light"
     },
     "output_type": "display_data"
    }
   ],
   "source": [
    "# plot the bar graph of top 10 state with most number of Deaths cases on 10/07/20\n",
    "\n",
    "covid_new.sort_values(by=\"Deaths\", ascending=False)[:10].plot(x='State/UnionTerritory',y='Deaths',kind='bar', figsize=(10,5))\n"
   ]
  },
  {
   "cell_type": "markdown",
   "metadata": {},
   "source": [
    "- **Maharashtra has most number of Deaths cases 9667 on 10/07/2020**"
   ]
  },
  {
   "cell_type": "markdown",
   "metadata": {},
   "source": [
    "#### Which state has most number of Cured Cases?"
   ]
  },
  {
   "cell_type": "code",
   "execution_count": 12,
   "metadata": {},
   "outputs": [
    {
     "data": {
      "text/html": [
       "<div>\n",
       "<style scoped>\n",
       "    .dataframe tbody tr th:only-of-type {\n",
       "        vertical-align: middle;\n",
       "    }\n",
       "\n",
       "    .dataframe tbody tr th {\n",
       "        vertical-align: top;\n",
       "    }\n",
       "\n",
       "    .dataframe thead th {\n",
       "        text-align: right;\n",
       "    }\n",
       "</style>\n",
       "<table border=\"1\" class=\"dataframe\">\n",
       "  <thead>\n",
       "    <tr style=\"text-align: right;\">\n",
       "      <th></th>\n",
       "      <th>Sno</th>\n",
       "      <th>Date</th>\n",
       "      <th>Time</th>\n",
       "      <th>State/UnionTerritory</th>\n",
       "      <th>Cured</th>\n",
       "      <th>Deaths</th>\n",
       "      <th>Confirmed</th>\n",
       "    </tr>\n",
       "  </thead>\n",
       "  <tbody>\n",
       "    <tr>\n",
       "      <td>3946</td>\n",
       "      <td>3947</td>\n",
       "      <td>10/07/20</td>\n",
       "      <td>8:00 AM</td>\n",
       "      <td>Maharashtra</td>\n",
       "      <td>127259</td>\n",
       "      <td>9667</td>\n",
       "      <td>230599</td>\n",
       "    </tr>\n",
       "    <tr>\n",
       "      <td>3935</td>\n",
       "      <td>3936</td>\n",
       "      <td>10/07/20</td>\n",
       "      <td>8:00 AM</td>\n",
       "      <td>Delhi</td>\n",
       "      <td>82226</td>\n",
       "      <td>3258</td>\n",
       "      <td>107051</td>\n",
       "    </tr>\n",
       "    <tr>\n",
       "      <td>3956</td>\n",
       "      <td>3957</td>\n",
       "      <td>10/07/20</td>\n",
       "      <td>8:00 AM</td>\n",
       "      <td>Tamil Nadu</td>\n",
       "      <td>78161</td>\n",
       "      <td>1765</td>\n",
       "      <td>126581</td>\n",
       "    </tr>\n",
       "    <tr>\n",
       "      <td>3937</td>\n",
       "      <td>3938</td>\n",
       "      <td>10/07/20</td>\n",
       "      <td>8:00 AM</td>\n",
       "      <td>Gujarat</td>\n",
       "      <td>27718</td>\n",
       "      <td>2008</td>\n",
       "      <td>39194</td>\n",
       "    </tr>\n",
       "    <tr>\n",
       "      <td>3960</td>\n",
       "      <td>3961</td>\n",
       "      <td>10/07/20</td>\n",
       "      <td>8:00 AM</td>\n",
       "      <td>Uttar Pradesh</td>\n",
       "      <td>21127</td>\n",
       "      <td>862</td>\n",
       "      <td>32362</td>\n",
       "    </tr>\n",
       "    <tr>\n",
       "      <td>3957</td>\n",
       "      <td>3958</td>\n",
       "      <td>10/07/20</td>\n",
       "      <td>8:00 AM</td>\n",
       "      <td>Telangana</td>\n",
       "      <td>18192</td>\n",
       "      <td>331</td>\n",
       "      <td>30946</td>\n",
       "    </tr>\n",
       "    <tr>\n",
       "      <td>3954</td>\n",
       "      <td>3955</td>\n",
       "      <td>10/07/20</td>\n",
       "      <td>8:00 AM</td>\n",
       "      <td>Rajasthan</td>\n",
       "      <td>17070</td>\n",
       "      <td>491</td>\n",
       "      <td>22563</td>\n",
       "    </tr>\n",
       "    <tr>\n",
       "      <td>3961</td>\n",
       "      <td>3962</td>\n",
       "      <td>10/07/20</td>\n",
       "      <td>8:00 AM</td>\n",
       "      <td>West Bengal</td>\n",
       "      <td>16826</td>\n",
       "      <td>854</td>\n",
       "      <td>25911</td>\n",
       "    </tr>\n",
       "    <tr>\n",
       "      <td>3938</td>\n",
       "      <td>3939</td>\n",
       "      <td>10/07/20</td>\n",
       "      <td>8:00 AM</td>\n",
       "      <td>Haryana</td>\n",
       "      <td>14510</td>\n",
       "      <td>287</td>\n",
       "      <td>19369</td>\n",
       "    </tr>\n",
       "    <tr>\n",
       "      <td>3942</td>\n",
       "      <td>3943</td>\n",
       "      <td>10/07/20</td>\n",
       "      <td>8:00 AM</td>\n",
       "      <td>Karnataka</td>\n",
       "      <td>12833</td>\n",
       "      <td>486</td>\n",
       "      <td>31105</td>\n",
       "    </tr>\n",
       "  </tbody>\n",
       "</table>\n",
       "</div>"
      ],
      "text/plain": [
       "       Sno      Date     Time State/UnionTerritory   Cured  Deaths  Confirmed\n",
       "3946  3947  10/07/20  8:00 AM          Maharashtra  127259    9667     230599\n",
       "3935  3936  10/07/20  8:00 AM                Delhi   82226    3258     107051\n",
       "3956  3957  10/07/20  8:00 AM           Tamil Nadu   78161    1765     126581\n",
       "3937  3938  10/07/20  8:00 AM              Gujarat   27718    2008      39194\n",
       "3960  3961  10/07/20  8:00 AM        Uttar Pradesh   21127     862      32362\n",
       "3957  3958  10/07/20  8:00 AM            Telangana   18192     331      30946\n",
       "3954  3955  10/07/20  8:00 AM            Rajasthan   17070     491      22563\n",
       "3961  3962  10/07/20  8:00 AM          West Bengal   16826     854      25911\n",
       "3938  3939  10/07/20  8:00 AM              Haryana   14510     287      19369\n",
       "3942  3943  10/07/20  8:00 AM            Karnataka   12833     486      31105"
      ]
     },
     "execution_count": 12,
     "metadata": {},
     "output_type": "execute_result"
    }
   ],
   "source": [
    "# sort the dataset of top 10 state with most number of recovery on 10/07/20\n",
    "\n",
    "covid_new.sort_values(by=\"Cured\", ascending=False)[:10]\n"
   ]
  },
  {
   "cell_type": "code",
   "execution_count": 69,
   "metadata": {},
   "outputs": [
    {
     "data": {
      "text/plain": [
       "<matplotlib.axes._subplots.AxesSubplot at 0x1bac66ac748>"
      ]
     },
     "execution_count": 69,
     "metadata": {},
     "output_type": "execute_result"
    },
    {
     "data": {
      "image/png": "[encoded data removed]",
      "text/plain": [
       "<Figure size 720x360 with 1 Axes>"
      ]
     },
     "metadata": {
      "needs_background": "light"
     },
     "output_type": "display_data"
    }
   ],
   "source": [
    "# plot the bar graph of top 10 state with most number of Confirmed cases on 10/07/20\n",
    "\n",
    "covid_new.sort_values(by=\"Cured\", ascending=False)[:10].plot(x='State/UnionTerritory',y='Cured',kind='bar', figsize=(10,5))\n"
   ]
  },
  {
   "cell_type": "markdown",
   "metadata": {},
   "source": [
    "- **Maharashtra has most number of Cured cases 127259 on 10/07/2020**"
   ]
  },
  {
   "cell_type": "code",
   "execution_count": 13,
   "metadata": {},
   "outputs": [
    {
     "data": {
      "text/plain": [
       "4.192125724742952"
      ]
     },
     "execution_count": 13,
     "metadata": {},
     "output_type": "execute_result"
    }
   ],
   "source": [
    "# Mortality rate of maharastra\n",
    "\n",
    "(covid_new['Deaths'].max()/covid_new['Confirmed'].max())*100"
   ]
  },
  {
   "cell_type": "markdown",
   "metadata": {},
   "source": [
    "- **Mortality rate of Maharastra drops to 4.192 %**"
   ]
  },
  {
   "cell_type": "code",
   "execution_count": 14,
   "metadata": {},
   "outputs": [
    {
     "data": {
      "text/plain": [
       "55.18627574273957"
      ]
     },
     "execution_count": 14,
     "metadata": {},
     "output_type": "execute_result"
    }
   ],
   "source": [
    "# recovery rate of Maharastra\n",
    "\n",
    "(covid_new['Cured'].max()/covid_new['Confirmed'].max())*100"
   ]
  },
  {
   "cell_type": "markdown",
   "metadata": {},
   "source": [
    "- **Recovery Rate of Maharastra are 55.1862 %**"
   ]
  },
  {
   "cell_type": "markdown",
   "metadata": {},
   "source": [
    "## Dataset - Age Group Detail"
   ]
  },
  {
   "cell_type": "code",
   "execution_count": 15,
   "metadata": {},
   "outputs": [
    {
     "data": {
      "text/html": [
       "<div>\n",
       "<style scoped>\n",
       "    .dataframe tbody tr th:only-of-type {\n",
       "        vertical-align: middle;\n",
       "    }\n",
       "\n",
       "    .dataframe tbody tr th {\n",
       "        vertical-align: top;\n",
       "    }\n",
       "\n",
       "    .dataframe thead th {\n",
       "        text-align: right;\n",
       "    }\n",
       "</style>\n",
       "<table border=\"1\" class=\"dataframe\">\n",
       "  <thead>\n",
       "    <tr style=\"text-align: right;\">\n",
       "      <th></th>\n",
       "      <th>Sno</th>\n",
       "      <th>AgeGroup</th>\n",
       "      <th>TotalCases</th>\n",
       "      <th>Percentage</th>\n",
       "    </tr>\n",
       "  </thead>\n",
       "  <tbody>\n",
       "    <tr>\n",
       "      <td>0</td>\n",
       "      <td>1</td>\n",
       "      <td>0-9</td>\n",
       "      <td>22</td>\n",
       "      <td>3.18%</td>\n",
       "    </tr>\n",
       "    <tr>\n",
       "      <td>1</td>\n",
       "      <td>2</td>\n",
       "      <td>10-19</td>\n",
       "      <td>27</td>\n",
       "      <td>3.90%</td>\n",
       "    </tr>\n",
       "    <tr>\n",
       "      <td>2</td>\n",
       "      <td>3</td>\n",
       "      <td>20-29</td>\n",
       "      <td>172</td>\n",
       "      <td>24.86%</td>\n",
       "    </tr>\n",
       "    <tr>\n",
       "      <td>3</td>\n",
       "      <td>4</td>\n",
       "      <td>30-39</td>\n",
       "      <td>146</td>\n",
       "      <td>21.10%</td>\n",
       "    </tr>\n",
       "    <tr>\n",
       "      <td>4</td>\n",
       "      <td>5</td>\n",
       "      <td>40-49</td>\n",
       "      <td>112</td>\n",
       "      <td>16.18%</td>\n",
       "    </tr>\n",
       "  </tbody>\n",
       "</table>\n",
       "</div>"
      ],
      "text/plain": [
       "   Sno AgeGroup  TotalCases Percentage\n",
       "0    1      0-9          22      3.18%\n",
       "1    2    10-19          27      3.90%\n",
       "2    3    20-29         172     24.86%\n",
       "3    4    30-39         146     21.10%\n",
       "4    5    40-49         112     16.18%"
      ]
     },
     "execution_count": 15,
     "metadata": {},
     "output_type": "execute_result"
    }
   ],
   "source": [
    "# read the csv\n",
    "\n",
    "df_age = pd.read_csv('Dataset/AgeGroupDetails.csv')\n",
    "df_age.head()"
   ]
  },
  {
   "cell_type": "code",
   "execution_count": 16,
   "metadata": {},
   "outputs": [
    {
     "name": "stdout",
     "output_type": "stream",
     "text": [
      "<class 'pandas.core.frame.DataFrame'>\n",
      "RangeIndex: 10 entries, 0 to 9\n",
      "Data columns (total 4 columns):\n",
      "Sno           10 non-null int64\n",
      "AgeGroup      10 non-null object\n",
      "TotalCases    10 non-null int64\n",
      "Percentage    10 non-null object\n",
      "dtypes: int64(2), object(2)\n",
      "memory usage: 448.0+ bytes\n"
     ]
    }
   ],
   "source": [
    "# dataset info\n",
    "\n",
    "df_age.info()\n"
   ]
  },
  {
   "cell_type": "code",
   "execution_count": 17,
   "metadata": {},
   "outputs": [
    {
     "data": {
      "text/html": [
       "<div>\n",
       "<style scoped>\n",
       "    .dataframe tbody tr th:only-of-type {\n",
       "        vertical-align: middle;\n",
       "    }\n",
       "\n",
       "    .dataframe tbody tr th {\n",
       "        vertical-align: top;\n",
       "    }\n",
       "\n",
       "    .dataframe thead th {\n",
       "        text-align: right;\n",
       "    }\n",
       "</style>\n",
       "<table border=\"1\" class=\"dataframe\">\n",
       "  <thead>\n",
       "    <tr style=\"text-align: right;\">\n",
       "      <th></th>\n",
       "      <th>Sno</th>\n",
       "      <th>TotalCases</th>\n",
       "    </tr>\n",
       "  </thead>\n",
       "  <tbody>\n",
       "    <tr>\n",
       "      <td>count</td>\n",
       "      <td>10.00000</td>\n",
       "      <td>10.000000</td>\n",
       "    </tr>\n",
       "    <tr>\n",
       "      <td>mean</td>\n",
       "      <td>5.50000</td>\n",
       "      <td>69.200000</td>\n",
       "    </tr>\n",
       "    <tr>\n",
       "      <td>std</td>\n",
       "      <td>3.02765</td>\n",
       "      <td>59.241127</td>\n",
       "    </tr>\n",
       "    <tr>\n",
       "      <td>min</td>\n",
       "      <td>1.00000</td>\n",
       "      <td>9.000000</td>\n",
       "    </tr>\n",
       "    <tr>\n",
       "      <td>25%</td>\n",
       "      <td>3.25000</td>\n",
       "      <td>23.250000</td>\n",
       "    </tr>\n",
       "    <tr>\n",
       "      <td>50%</td>\n",
       "      <td>5.50000</td>\n",
       "      <td>52.500000</td>\n",
       "    </tr>\n",
       "    <tr>\n",
       "      <td>75%</td>\n",
       "      <td>7.75000</td>\n",
       "      <td>106.250000</td>\n",
       "    </tr>\n",
       "    <tr>\n",
       "      <td>max</td>\n",
       "      <td>10.00000</td>\n",
       "      <td>172.000000</td>\n",
       "    </tr>\n",
       "  </tbody>\n",
       "</table>\n",
       "</div>"
      ],
      "text/plain": [
       "            Sno  TotalCases\n",
       "count  10.00000   10.000000\n",
       "mean    5.50000   69.200000\n",
       "std     3.02765   59.241127\n",
       "min     1.00000    9.000000\n",
       "25%     3.25000   23.250000\n",
       "50%     5.50000   52.500000\n",
       "75%     7.75000  106.250000\n",
       "max    10.00000  172.000000"
      ]
     },
     "execution_count": 17,
     "metadata": {},
     "output_type": "execute_result"
    }
   ],
   "source": [
    "# dataset describe\n",
    "\n",
    "df_age.describe()"
   ]
  },
  {
   "cell_type": "code",
   "execution_count": 18,
   "metadata": {},
   "outputs": [
    {
     "name": "stdout",
     "output_type": "stream",
     "text": [
      "The number of value dtaset contain are : Sno           0\n",
      "AgeGroup      0\n",
      "TotalCases    0\n",
      "Percentage    0\n",
      "dtype: int64\n"
     ]
    }
   ],
   "source": [
    "# check weather dataset contain any null values\n",
    "\n",
    "print(\"The number of value dtaset contain are :\",df_age.isnull().sum())"
   ]
  },
  {
   "cell_type": "markdown",
   "metadata": {},
   "source": [
    "- **Clearly, dataset contain 0 null values.**"
   ]
  },
  {
   "cell_type": "code",
   "execution_count": 19,
   "metadata": {},
   "outputs": [
    {
     "data": {
      "text/html": [
       "<div>\n",
       "<style scoped>\n",
       "    .dataframe tbody tr th:only-of-type {\n",
       "        vertical-align: middle;\n",
       "    }\n",
       "\n",
       "    .dataframe tbody tr th {\n",
       "        vertical-align: top;\n",
       "    }\n",
       "\n",
       "    .dataframe thead th {\n",
       "        text-align: right;\n",
       "    }\n",
       "</style>\n",
       "<table border=\"1\" class=\"dataframe\">\n",
       "  <thead>\n",
       "    <tr style=\"text-align: right;\">\n",
       "      <th></th>\n",
       "      <th>Sno</th>\n",
       "      <th>AgeGroup</th>\n",
       "      <th>TotalCases</th>\n",
       "      <th>Percentage</th>\n",
       "    </tr>\n",
       "  </thead>\n",
       "  <tbody>\n",
       "    <tr>\n",
       "      <td>2</td>\n",
       "      <td>3</td>\n",
       "      <td>20-29</td>\n",
       "      <td>172</td>\n",
       "      <td>24.86%</td>\n",
       "    </tr>\n",
       "    <tr>\n",
       "      <td>3</td>\n",
       "      <td>4</td>\n",
       "      <td>30-39</td>\n",
       "      <td>146</td>\n",
       "      <td>21.10%</td>\n",
       "    </tr>\n",
       "    <tr>\n",
       "      <td>4</td>\n",
       "      <td>5</td>\n",
       "      <td>40-49</td>\n",
       "      <td>112</td>\n",
       "      <td>16.18%</td>\n",
       "    </tr>\n",
       "    <tr>\n",
       "      <td>6</td>\n",
       "      <td>7</td>\n",
       "      <td>60-69</td>\n",
       "      <td>89</td>\n",
       "      <td>12.86%</td>\n",
       "    </tr>\n",
       "    <tr>\n",
       "      <td>5</td>\n",
       "      <td>6</td>\n",
       "      <td>50-59</td>\n",
       "      <td>77</td>\n",
       "      <td>11.13%</td>\n",
       "    </tr>\n",
       "    <tr>\n",
       "      <td>7</td>\n",
       "      <td>8</td>\n",
       "      <td>70-79</td>\n",
       "      <td>28</td>\n",
       "      <td>4.05%</td>\n",
       "    </tr>\n",
       "    <tr>\n",
       "      <td>1</td>\n",
       "      <td>2</td>\n",
       "      <td>10-19</td>\n",
       "      <td>27</td>\n",
       "      <td>3.90%</td>\n",
       "    </tr>\n",
       "    <tr>\n",
       "      <td>0</td>\n",
       "      <td>1</td>\n",
       "      <td>0-9</td>\n",
       "      <td>22</td>\n",
       "      <td>3.18%</td>\n",
       "    </tr>\n",
       "    <tr>\n",
       "      <td>8</td>\n",
       "      <td>9</td>\n",
       "      <td>&gt;=80</td>\n",
       "      <td>10</td>\n",
       "      <td>1.45%</td>\n",
       "    </tr>\n",
       "    <tr>\n",
       "      <td>9</td>\n",
       "      <td>10</td>\n",
       "      <td>Missing</td>\n",
       "      <td>9</td>\n",
       "      <td>1.30%</td>\n",
       "    </tr>\n",
       "  </tbody>\n",
       "</table>\n",
       "</div>"
      ],
      "text/plain": [
       "   Sno AgeGroup  TotalCases Percentage\n",
       "2    3    20-29         172     24.86%\n",
       "3    4    30-39         146     21.10%\n",
       "4    5    40-49         112     16.18%\n",
       "6    7    60-69          89     12.86%\n",
       "5    6    50-59          77     11.13%\n",
       "7    8    70-79          28      4.05%\n",
       "1    2    10-19          27      3.90%\n",
       "0    1      0-9          22      3.18%\n",
       "8    9     >=80          10      1.45%\n",
       "9   10  Missing           9      1.30%"
      ]
     },
     "execution_count": 19,
     "metadata": {},
     "output_type": "execute_result"
    }
   ],
   "source": [
    "\n",
    "df_age.sort_values(by=\"TotalCases\", ascending=False)"
   ]
  },
  {
   "cell_type": "code",
   "execution_count": 20,
   "metadata": {},
   "outputs": [
    {
     "name": "stdout",
     "output_type": "stream",
     "text": [
      "The number of nulll value in the dataset are : Sno           0\n",
      "AgeGroup      0\n",
      "TotalCases    0\n",
      "Percentage    0\n",
      "dtype: int64\n"
     ]
    }
   ],
   "source": [
    "# check weather the dataset contain null value or not\n",
    "\n",
    "print(\"The number of nulll value in the dataset are :\", df_age.isnull().sum())"
   ]
  },
  {
   "cell_type": "markdown",
   "metadata": {},
   "source": [
    "- **Now, the dataset contains 0 null values**"
   ]
  },
  {
   "cell_type": "markdown",
   "metadata": {},
   "source": [
    "### Q3) Which Age group has heigher chance of getting infected?"
   ]
  },
  {
   "cell_type": "code",
   "execution_count": 21,
   "metadata": {},
   "outputs": [
    {
     "data": {
      "text/html": [
       "<div>\n",
       "<style scoped>\n",
       "    .dataframe tbody tr th:only-of-type {\n",
       "        vertical-align: middle;\n",
       "    }\n",
       "\n",
       "    .dataframe tbody tr th {\n",
       "        vertical-align: top;\n",
       "    }\n",
       "\n",
       "    .dataframe thead th {\n",
       "        text-align: right;\n",
       "    }\n",
       "</style>\n",
       "<table border=\"1\" class=\"dataframe\">\n",
       "  <thead>\n",
       "    <tr style=\"text-align: right;\">\n",
       "      <th></th>\n",
       "      <th>Sno</th>\n",
       "      <th>AgeGroup</th>\n",
       "      <th>TotalCases</th>\n",
       "      <th>Percentage</th>\n",
       "    </tr>\n",
       "  </thead>\n",
       "  <tbody>\n",
       "    <tr>\n",
       "      <td>2</td>\n",
       "      <td>3</td>\n",
       "      <td>20-29</td>\n",
       "      <td>172</td>\n",
       "      <td>24.86%</td>\n",
       "    </tr>\n",
       "    <tr>\n",
       "      <td>3</td>\n",
       "      <td>4</td>\n",
       "      <td>30-39</td>\n",
       "      <td>146</td>\n",
       "      <td>21.10%</td>\n",
       "    </tr>\n",
       "    <tr>\n",
       "      <td>4</td>\n",
       "      <td>5</td>\n",
       "      <td>40-49</td>\n",
       "      <td>112</td>\n",
       "      <td>16.18%</td>\n",
       "    </tr>\n",
       "    <tr>\n",
       "      <td>6</td>\n",
       "      <td>7</td>\n",
       "      <td>60-69</td>\n",
       "      <td>89</td>\n",
       "      <td>12.86%</td>\n",
       "    </tr>\n",
       "    <tr>\n",
       "      <td>5</td>\n",
       "      <td>6</td>\n",
       "      <td>50-59</td>\n",
       "      <td>77</td>\n",
       "      <td>11.13%</td>\n",
       "    </tr>\n",
       "    <tr>\n",
       "      <td>7</td>\n",
       "      <td>8</td>\n",
       "      <td>70-79</td>\n",
       "      <td>28</td>\n",
       "      <td>4.05%</td>\n",
       "    </tr>\n",
       "    <tr>\n",
       "      <td>1</td>\n",
       "      <td>2</td>\n",
       "      <td>10-19</td>\n",
       "      <td>27</td>\n",
       "      <td>3.90%</td>\n",
       "    </tr>\n",
       "    <tr>\n",
       "      <td>0</td>\n",
       "      <td>1</td>\n",
       "      <td>0-9</td>\n",
       "      <td>22</td>\n",
       "      <td>3.18%</td>\n",
       "    </tr>\n",
       "    <tr>\n",
       "      <td>8</td>\n",
       "      <td>9</td>\n",
       "      <td>&gt;=80</td>\n",
       "      <td>10</td>\n",
       "      <td>1.45%</td>\n",
       "    </tr>\n",
       "    <tr>\n",
       "      <td>9</td>\n",
       "      <td>10</td>\n",
       "      <td>Missing</td>\n",
       "      <td>9</td>\n",
       "      <td>1.30%</td>\n",
       "    </tr>\n",
       "  </tbody>\n",
       "</table>\n",
       "</div>"
      ],
      "text/plain": [
       "   Sno AgeGroup  TotalCases Percentage\n",
       "2    3    20-29         172     24.86%\n",
       "3    4    30-39         146     21.10%\n",
       "4    5    40-49         112     16.18%\n",
       "6    7    60-69          89     12.86%\n",
       "5    6    50-59          77     11.13%\n",
       "7    8    70-79          28      4.05%\n",
       "1    2    10-19          27      3.90%\n",
       "0    1      0-9          22      3.18%\n",
       "8    9     >=80          10      1.45%\n",
       "9   10  Missing           9      1.30%"
      ]
     },
     "execution_count": 21,
     "metadata": {},
     "output_type": "execute_result"
    }
   ],
   "source": [
    "df_age.sort_values(by=\"TotalCases\", ascending=False)"
   ]
  },
  {
   "cell_type": "code",
   "execution_count": 67,
   "metadata": {},
   "outputs": [
    {
     "data": {
      "text/plain": [
       "<matplotlib.axes._subplots.AxesSubplot at 0x1bac6621508>"
      ]
     },
     "execution_count": 67,
     "metadata": {},
     "output_type": "execute_result"
    },
    {
     "data": {
      "image/png": "[encoded data removed]",
      "text/plain": [
       "<Figure size 720x360 with 1 Axes>"
      ]
     },
     "metadata": {
      "needs_background": "light"
     },
     "output_type": "display_data"
    }
   ],
   "source": [
    "# plot the graph between TotalCases and AgeGroups\n",
    "\n",
    "df_age.sort_values(by=\"TotalCases\", ascending=False).plot(x = 'AgeGroup', y='TotalCases', kind = 'bar', figsize=(10,5))"
   ]
  },
  {
   "cell_type": "markdown",
   "metadata": {},
   "source": [
    "- **From the above data Age group between 20-29 has heigher chance of getting infected**\n",
    "- **From the above data Age group more than or equals to 80 has lower chance of getting infected**\n"
   ]
  },
  {
   "cell_type": "markdown",
   "metadata": {},
   "source": [
    "## DataSet - Hospitals Bed in India"
   ]
  },
  {
   "cell_type": "code",
   "execution_count": 23,
   "metadata": {},
   "outputs": [
    {
     "data": {
      "text/html": [
       "<div>\n",
       "<style scoped>\n",
       "    .dataframe tbody tr th:only-of-type {\n",
       "        vertical-align: middle;\n",
       "    }\n",
       "\n",
       "    .dataframe tbody tr th {\n",
       "        vertical-align: top;\n",
       "    }\n",
       "\n",
       "    .dataframe thead th {\n",
       "        text-align: right;\n",
       "    }\n",
       "</style>\n",
       "<table border=\"1\" class=\"dataframe\">\n",
       "  <thead>\n",
       "    <tr style=\"text-align: right;\">\n",
       "      <th></th>\n",
       "      <th>Sno</th>\n",
       "      <th>State/UT</th>\n",
       "      <th>NumPrimaryHealthCenters_HMIS</th>\n",
       "      <th>NumCommunityHealthCenters_HMIS</th>\n",
       "      <th>NumSubDistrictHospitals_HMIS</th>\n",
       "      <th>NumDistrictHospitals_HMIS</th>\n",
       "      <th>TotalPublicHealthFacilities_HMIS</th>\n",
       "      <th>NumPublicBeds_HMIS</th>\n",
       "      <th>NumRuralHospitals_NHP18</th>\n",
       "      <th>NumRuralBeds_NHP18</th>\n",
       "      <th>NumUrbanHospitals_NHP18</th>\n",
       "      <th>NumUrbanBeds_NHP18</th>\n",
       "    </tr>\n",
       "  </thead>\n",
       "  <tbody>\n",
       "    <tr>\n",
       "      <td>0</td>\n",
       "      <td>1</td>\n",
       "      <td>Andaman &amp; Nicobar Islands</td>\n",
       "      <td>27</td>\n",
       "      <td>4</td>\n",
       "      <td>NaN</td>\n",
       "      <td>3</td>\n",
       "      <td>34</td>\n",
       "      <td>1246</td>\n",
       "      <td>27</td>\n",
       "      <td>575</td>\n",
       "      <td>3</td>\n",
       "      <td>500</td>\n",
       "    </tr>\n",
       "    <tr>\n",
       "      <td>1</td>\n",
       "      <td>2</td>\n",
       "      <td>Andhra Pradesh</td>\n",
       "      <td>1417</td>\n",
       "      <td>198</td>\n",
       "      <td>31.0</td>\n",
       "      <td>20</td>\n",
       "      <td>1666</td>\n",
       "      <td>60799</td>\n",
       "      <td>193</td>\n",
       "      <td>6480</td>\n",
       "      <td>65</td>\n",
       "      <td>16658</td>\n",
       "    </tr>\n",
       "    <tr>\n",
       "      <td>2</td>\n",
       "      <td>3</td>\n",
       "      <td>Arunachal Pradesh</td>\n",
       "      <td>122</td>\n",
       "      <td>62</td>\n",
       "      <td>NaN</td>\n",
       "      <td>15</td>\n",
       "      <td>199</td>\n",
       "      <td>2320</td>\n",
       "      <td>208</td>\n",
       "      <td>2136</td>\n",
       "      <td>10</td>\n",
       "      <td>268</td>\n",
       "    </tr>\n",
       "    <tr>\n",
       "      <td>3</td>\n",
       "      <td>4</td>\n",
       "      <td>Assam</td>\n",
       "      <td>1007</td>\n",
       "      <td>166</td>\n",
       "      <td>14.0</td>\n",
       "      <td>33</td>\n",
       "      <td>1220</td>\n",
       "      <td>19115</td>\n",
       "      <td>1176</td>\n",
       "      <td>10944</td>\n",
       "      <td>50</td>\n",
       "      <td>6198</td>\n",
       "    </tr>\n",
       "    <tr>\n",
       "      <td>4</td>\n",
       "      <td>5</td>\n",
       "      <td>Bihar</td>\n",
       "      <td>2007</td>\n",
       "      <td>63</td>\n",
       "      <td>33.0</td>\n",
       "      <td>43</td>\n",
       "      <td>2146</td>\n",
       "      <td>17796</td>\n",
       "      <td>930</td>\n",
       "      <td>6083</td>\n",
       "      <td>103</td>\n",
       "      <td>5936</td>\n",
       "    </tr>\n",
       "  </tbody>\n",
       "</table>\n",
       "</div>"
      ],
      "text/plain": [
       "   Sno                   State/UT NumPrimaryHealthCenters_HMIS  \\\n",
       "0    1  Andaman & Nicobar Islands                           27   \n",
       "1    2             Andhra Pradesh                         1417   \n",
       "2    3          Arunachal Pradesh                          122   \n",
       "3    4                      Assam                         1007   \n",
       "4    5                      Bihar                         2007   \n",
       "\n",
       "   NumCommunityHealthCenters_HMIS  NumSubDistrictHospitals_HMIS  \\\n",
       "0                               4                           NaN   \n",
       "1                             198                          31.0   \n",
       "2                              62                           NaN   \n",
       "3                             166                          14.0   \n",
       "4                              63                          33.0   \n",
       "\n",
       "   NumDistrictHospitals_HMIS  TotalPublicHealthFacilities_HMIS  \\\n",
       "0                          3                                34   \n",
       "1                         20                              1666   \n",
       "2                         15                               199   \n",
       "3                         33                              1220   \n",
       "4                         43                              2146   \n",
       "\n",
       "   NumPublicBeds_HMIS  NumRuralHospitals_NHP18  NumRuralBeds_NHP18  \\\n",
       "0                1246                       27                 575   \n",
       "1               60799                      193                6480   \n",
       "2                2320                      208                2136   \n",
       "3               19115                     1176               10944   \n",
       "4               17796                      930                6083   \n",
       "\n",
       "   NumUrbanHospitals_NHP18  NumUrbanBeds_NHP18  \n",
       "0                        3                 500  \n",
       "1                       65               16658  \n",
       "2                       10                 268  \n",
       "3                       50                6198  \n",
       "4                      103                5936  "
      ]
     },
     "execution_count": 23,
     "metadata": {},
     "output_type": "execute_result"
    }
   ],
   "source": [
    "# read the dataset\n",
    "\n",
    "df_hospital = pd.read_csv(\"Dataset/HospitalBedsIndia.csv\")\n",
    "\n",
    "df_hospital.head()"
   ]
  },
  {
   "cell_type": "code",
   "execution_count": 24,
   "metadata": {},
   "outputs": [
    {
     "name": "stdout",
     "output_type": "stream",
     "text": [
      "<class 'pandas.core.frame.DataFrame'>\n",
      "RangeIndex: 37 entries, 0 to 36\n",
      "Data columns (total 12 columns):\n",
      "Sno                                 37 non-null int64\n",
      "State/UT                            37 non-null object\n",
      "NumPrimaryHealthCenters_HMIS        37 non-null object\n",
      "NumCommunityHealthCenters_HMIS      37 non-null int64\n",
      "NumSubDistrictHospitals_HMIS        30 non-null float64\n",
      "NumDistrictHospitals_HMIS           37 non-null int64\n",
      "TotalPublicHealthFacilities_HMIS    37 non-null int64\n",
      "NumPublicBeds_HMIS                  37 non-null int64\n",
      "NumRuralHospitals_NHP18             37 non-null int64\n",
      "NumRuralBeds_NHP18                  37 non-null int64\n",
      "NumUrbanHospitals_NHP18             37 non-null int64\n",
      "NumUrbanBeds_NHP18                  37 non-null int64\n",
      "dtypes: float64(1), int64(9), object(2)\n",
      "memory usage: 3.6+ KB\n"
     ]
    }
   ],
   "source": [
    "# dataset info\n",
    "\n",
    "df_hospital.info()\n"
   ]
  },
  {
   "cell_type": "markdown",
   "metadata": {},
   "source": [
    "### Q4)  Which state has better Public Health care facilities?"
   ]
  },
  {
   "cell_type": "code",
   "execution_count": 25,
   "metadata": {},
   "outputs": [
    {
     "data": {
      "text/html": [
       "<div>\n",
       "<style scoped>\n",
       "    .dataframe tbody tr th:only-of-type {\n",
       "        vertical-align: middle;\n",
       "    }\n",
       "\n",
       "    .dataframe tbody tr th {\n",
       "        vertical-align: top;\n",
       "    }\n",
       "\n",
       "    .dataframe thead th {\n",
       "        text-align: right;\n",
       "    }\n",
       "</style>\n",
       "<table border=\"1\" class=\"dataframe\">\n",
       "  <thead>\n",
       "    <tr style=\"text-align: right;\">\n",
       "      <th></th>\n",
       "      <th>Sno</th>\n",
       "      <th>State/UT</th>\n",
       "      <th>NumPrimaryHealthCenters_HMIS</th>\n",
       "      <th>NumCommunityHealthCenters_HMIS</th>\n",
       "      <th>NumSubDistrictHospitals_HMIS</th>\n",
       "      <th>NumDistrictHospitals_HMIS</th>\n",
       "      <th>TotalPublicHealthFacilities_HMIS</th>\n",
       "      <th>NumPublicBeds_HMIS</th>\n",
       "      <th>NumRuralHospitals_NHP18</th>\n",
       "      <th>NumRuralBeds_NHP18</th>\n",
       "      <th>NumUrbanHospitals_NHP18</th>\n",
       "      <th>NumUrbanBeds_NHP18</th>\n",
       "    </tr>\n",
       "  </thead>\n",
       "  <tbody>\n",
       "    <tr>\n",
       "      <td>33</td>\n",
       "      <td>34</td>\n",
       "      <td>Uttar Pradesh</td>\n",
       "      <td>3277</td>\n",
       "      <td>671</td>\n",
       "      <td>NaN</td>\n",
       "      <td>174</td>\n",
       "      <td>4122</td>\n",
       "      <td>58310</td>\n",
       "      <td>4442</td>\n",
       "      <td>39104</td>\n",
       "      <td>193</td>\n",
       "      <td>37156</td>\n",
       "    </tr>\n",
       "    <tr>\n",
       "      <td>20</td>\n",
       "      <td>21</td>\n",
       "      <td>Maharashtra</td>\n",
       "      <td>2638</td>\n",
       "      <td>430</td>\n",
       "      <td>101.0</td>\n",
       "      <td>70</td>\n",
       "      <td>3239</td>\n",
       "      <td>68998</td>\n",
       "      <td>273</td>\n",
       "      <td>12398</td>\n",
       "      <td>438</td>\n",
       "      <td>39048</td>\n",
       "    </tr>\n",
       "    <tr>\n",
       "      <td>28</td>\n",
       "      <td>29</td>\n",
       "      <td>Rajasthan</td>\n",
       "      <td>2463</td>\n",
       "      <td>579</td>\n",
       "      <td>64.0</td>\n",
       "      <td>33</td>\n",
       "      <td>3139</td>\n",
       "      <td>51844</td>\n",
       "      <td>602</td>\n",
       "      <td>21088</td>\n",
       "      <td>150</td>\n",
       "      <td>10760</td>\n",
       "    </tr>\n",
       "    <tr>\n",
       "      <td>16</td>\n",
       "      <td>17</td>\n",
       "      <td>Karnataka</td>\n",
       "      <td>2547</td>\n",
       "      <td>207</td>\n",
       "      <td>147.0</td>\n",
       "      <td>42</td>\n",
       "      <td>2943</td>\n",
       "      <td>56333</td>\n",
       "      <td>2471</td>\n",
       "      <td>21072</td>\n",
       "      <td>374</td>\n",
       "      <td>49093</td>\n",
       "    </tr>\n",
       "    <tr>\n",
       "      <td>30</td>\n",
       "      <td>31</td>\n",
       "      <td>Tamil Nadu</td>\n",
       "      <td>1854</td>\n",
       "      <td>385</td>\n",
       "      <td>310.0</td>\n",
       "      <td>32</td>\n",
       "      <td>2581</td>\n",
       "      <td>72616</td>\n",
       "      <td>692</td>\n",
       "      <td>40179</td>\n",
       "      <td>525</td>\n",
       "      <td>37353</td>\n",
       "    </tr>\n",
       "    <tr>\n",
       "      <td>11</td>\n",
       "      <td>12</td>\n",
       "      <td>Gujarat</td>\n",
       "      <td>1770</td>\n",
       "      <td>385</td>\n",
       "      <td>44.0</td>\n",
       "      <td>37</td>\n",
       "      <td>2236</td>\n",
       "      <td>41129</td>\n",
       "      <td>364</td>\n",
       "      <td>11715</td>\n",
       "      <td>122</td>\n",
       "      <td>20565</td>\n",
       "    </tr>\n",
       "    <tr>\n",
       "      <td>4</td>\n",
       "      <td>5</td>\n",
       "      <td>Bihar</td>\n",
       "      <td>2007</td>\n",
       "      <td>63</td>\n",
       "      <td>33.0</td>\n",
       "      <td>43</td>\n",
       "      <td>2146</td>\n",
       "      <td>17796</td>\n",
       "      <td>930</td>\n",
       "      <td>6083</td>\n",
       "      <td>103</td>\n",
       "      <td>5936</td>\n",
       "    </tr>\n",
       "    <tr>\n",
       "      <td>35</td>\n",
       "      <td>36</td>\n",
       "      <td>West Bengal</td>\n",
       "      <td>1374</td>\n",
       "      <td>406</td>\n",
       "      <td>70.0</td>\n",
       "      <td>55</td>\n",
       "      <td>1905</td>\n",
       "      <td>51163</td>\n",
       "      <td>1272</td>\n",
       "      <td>19684</td>\n",
       "      <td>294</td>\n",
       "      <td>58882</td>\n",
       "    </tr>\n",
       "    <tr>\n",
       "      <td>19</td>\n",
       "      <td>20</td>\n",
       "      <td>Madhya Pradesh</td>\n",
       "      <td>1420</td>\n",
       "      <td>324</td>\n",
       "      <td>72.0</td>\n",
       "      <td>51</td>\n",
       "      <td>1867</td>\n",
       "      <td>38140</td>\n",
       "      <td>334</td>\n",
       "      <td>10020</td>\n",
       "      <td>117</td>\n",
       "      <td>18819</td>\n",
       "    </tr>\n",
       "  </tbody>\n",
       "</table>\n",
       "</div>"
      ],
      "text/plain": [
       "    Sno        State/UT NumPrimaryHealthCenters_HMIS  \\\n",
       "33   34   Uttar Pradesh                         3277   \n",
       "20   21     Maharashtra                         2638   \n",
       "28   29       Rajasthan                         2463   \n",
       "16   17       Karnataka                         2547   \n",
       "30   31      Tamil Nadu                         1854   \n",
       "11   12         Gujarat                         1770   \n",
       "4     5           Bihar                         2007   \n",
       "35   36     West Bengal                         1374   \n",
       "19   20  Madhya Pradesh                         1420   \n",
       "\n",
       "    NumCommunityHealthCenters_HMIS  NumSubDistrictHospitals_HMIS  \\\n",
       "33                             671                           NaN   \n",
       "20                             430                         101.0   \n",
       "28                             579                          64.0   \n",
       "16                             207                         147.0   \n",
       "30                             385                         310.0   \n",
       "11                             385                          44.0   \n",
       "4                               63                          33.0   \n",
       "35                             406                          70.0   \n",
       "19                             324                          72.0   \n",
       "\n",
       "    NumDistrictHospitals_HMIS  TotalPublicHealthFacilities_HMIS  \\\n",
       "33                        174                              4122   \n",
       "20                         70                              3239   \n",
       "28                         33                              3139   \n",
       "16                         42                              2943   \n",
       "30                         32                              2581   \n",
       "11                         37                              2236   \n",
       "4                          43                              2146   \n",
       "35                         55                              1905   \n",
       "19                         51                              1867   \n",
       "\n",
       "    NumPublicBeds_HMIS  NumRuralHospitals_NHP18  NumRuralBeds_NHP18  \\\n",
       "33               58310                     4442               39104   \n",
       "20               68998                      273               12398   \n",
       "28               51844                      602               21088   \n",
       "16               56333                     2471               21072   \n",
       "30               72616                      692               40179   \n",
       "11               41129                      364               11715   \n",
       "4                17796                      930                6083   \n",
       "35               51163                     1272               19684   \n",
       "19               38140                      334               10020   \n",
       "\n",
       "    NumUrbanHospitals_NHP18  NumUrbanBeds_NHP18  \n",
       "33                      193               37156  \n",
       "20                      438               39048  \n",
       "28                      150               10760  \n",
       "16                      374               49093  \n",
       "30                      525               37353  \n",
       "11                      122               20565  \n",
       "4                       103                5936  \n",
       "35                      294               58882  \n",
       "19                      117               18819  "
      ]
     },
     "execution_count": 25,
     "metadata": {},
     "output_type": "execute_result"
    }
   ],
   "source": [
    "# sort the value of dataset Total health care facilities\n",
    "\n",
    "df_hospital.sort_values(by='TotalPublicHealthFacilities_HMIS', ascending=False)[1:10]"
   ]
  },
  {
   "cell_type": "code",
   "execution_count": 76,
   "metadata": {},
   "outputs": [
    {
     "data": {
      "text/plain": [
       "<matplotlib.axes._subplots.AxesSubplot at 0x1bac83a6688>"
      ]
     },
     "execution_count": 76,
     "metadata": {},
     "output_type": "execute_result"
    },
    {
     "data": {
      "image/png": "[encoded data removed]",
      "text/plain": [
       "<Figure size 864x360 with 1 Axes>"
      ]
     },
     "metadata": {
      "needs_background": "light"
     },
     "output_type": "display_data"
    }
   ],
   "source": [
    "# plot the graph for total public health care facilites\n",
    "\n",
    "df_hospital.sort_values(by=\"TotalPublicHealthFacilities_HMIS\", ascending=False)[1:36].plot(x='State/UT',y='TotalPublicHealthFacilities_HMIS',kind='bar', figsize=(12,5))\n"
   ]
  },
  {
   "cell_type": "markdown",
   "metadata": {},
   "source": [
    "- **Uttar Pradesh is top in terms of Total Public Health Care has 4122**"
   ]
  },
  {
   "cell_type": "markdown",
   "metadata": {},
   "source": [
    "### Q5)  Which state has heigher number of Public Beds?"
   ]
  },
  {
   "cell_type": "code",
   "execution_count": 81,
   "metadata": {},
   "outputs": [
    {
     "data": {
      "text/html": [
       "<div>\n",
       "<style scoped>\n",
       "    .dataframe tbody tr th:only-of-type {\n",
       "        vertical-align: middle;\n",
       "    }\n",
       "\n",
       "    .dataframe tbody tr th {\n",
       "        vertical-align: top;\n",
       "    }\n",
       "\n",
       "    .dataframe thead th {\n",
       "        text-align: right;\n",
       "    }\n",
       "</style>\n",
       "<table border=\"1\" class=\"dataframe\">\n",
       "  <thead>\n",
       "    <tr style=\"text-align: right;\">\n",
       "      <th></th>\n",
       "      <th>Sno</th>\n",
       "      <th>State/UT</th>\n",
       "      <th>NumPrimaryHealthCenters_HMIS</th>\n",
       "      <th>NumCommunityHealthCenters_HMIS</th>\n",
       "      <th>NumSubDistrictHospitals_HMIS</th>\n",
       "      <th>NumDistrictHospitals_HMIS</th>\n",
       "      <th>TotalPublicHealthFacilities_HMIS</th>\n",
       "      <th>NumPublicBeds_HMIS</th>\n",
       "      <th>NumRuralHospitals_NHP18</th>\n",
       "      <th>NumRuralBeds_NHP18</th>\n",
       "      <th>NumUrbanHospitals_NHP18</th>\n",
       "      <th>NumUrbanBeds_NHP18</th>\n",
       "    </tr>\n",
       "  </thead>\n",
       "  <tbody>\n",
       "    <tr>\n",
       "      <td>30</td>\n",
       "      <td>31</td>\n",
       "      <td>Tamil Nadu</td>\n",
       "      <td>1854</td>\n",
       "      <td>385</td>\n",
       "      <td>310.0</td>\n",
       "      <td>32</td>\n",
       "      <td>2581</td>\n",
       "      <td>72616</td>\n",
       "      <td>692</td>\n",
       "      <td>40179</td>\n",
       "      <td>525</td>\n",
       "      <td>37353</td>\n",
       "    </tr>\n",
       "    <tr>\n",
       "      <td>20</td>\n",
       "      <td>21</td>\n",
       "      <td>Maharashtra</td>\n",
       "      <td>2638</td>\n",
       "      <td>430</td>\n",
       "      <td>101.0</td>\n",
       "      <td>70</td>\n",
       "      <td>3239</td>\n",
       "      <td>68998</td>\n",
       "      <td>273</td>\n",
       "      <td>12398</td>\n",
       "      <td>438</td>\n",
       "      <td>39048</td>\n",
       "    </tr>\n",
       "    <tr>\n",
       "      <td>1</td>\n",
       "      <td>2</td>\n",
       "      <td>Andhra Pradesh</td>\n",
       "      <td>1417</td>\n",
       "      <td>198</td>\n",
       "      <td>31.0</td>\n",
       "      <td>20</td>\n",
       "      <td>1666</td>\n",
       "      <td>60799</td>\n",
       "      <td>193</td>\n",
       "      <td>6480</td>\n",
       "      <td>65</td>\n",
       "      <td>16658</td>\n",
       "    </tr>\n",
       "    <tr>\n",
       "      <td>33</td>\n",
       "      <td>34</td>\n",
       "      <td>Uttar Pradesh</td>\n",
       "      <td>3277</td>\n",
       "      <td>671</td>\n",
       "      <td>NaN</td>\n",
       "      <td>174</td>\n",
       "      <td>4122</td>\n",
       "      <td>58310</td>\n",
       "      <td>4442</td>\n",
       "      <td>39104</td>\n",
       "      <td>193</td>\n",
       "      <td>37156</td>\n",
       "    </tr>\n",
       "    <tr>\n",
       "      <td>16</td>\n",
       "      <td>17</td>\n",
       "      <td>Karnataka</td>\n",
       "      <td>2547</td>\n",
       "      <td>207</td>\n",
       "      <td>147.0</td>\n",
       "      <td>42</td>\n",
       "      <td>2943</td>\n",
       "      <td>56333</td>\n",
       "      <td>2471</td>\n",
       "      <td>21072</td>\n",
       "      <td>374</td>\n",
       "      <td>49093</td>\n",
       "    </tr>\n",
       "    <tr>\n",
       "      <td>28</td>\n",
       "      <td>29</td>\n",
       "      <td>Rajasthan</td>\n",
       "      <td>2463</td>\n",
       "      <td>579</td>\n",
       "      <td>64.0</td>\n",
       "      <td>33</td>\n",
       "      <td>3139</td>\n",
       "      <td>51844</td>\n",
       "      <td>602</td>\n",
       "      <td>21088</td>\n",
       "      <td>150</td>\n",
       "      <td>10760</td>\n",
       "    </tr>\n",
       "    <tr>\n",
       "      <td>35</td>\n",
       "      <td>36</td>\n",
       "      <td>West Bengal</td>\n",
       "      <td>1374</td>\n",
       "      <td>406</td>\n",
       "      <td>70.0</td>\n",
       "      <td>55</td>\n",
       "      <td>1905</td>\n",
       "      <td>51163</td>\n",
       "      <td>1272</td>\n",
       "      <td>19684</td>\n",
       "      <td>294</td>\n",
       "      <td>58882</td>\n",
       "    </tr>\n",
       "    <tr>\n",
       "      <td>11</td>\n",
       "      <td>12</td>\n",
       "      <td>Gujarat</td>\n",
       "      <td>1770</td>\n",
       "      <td>385</td>\n",
       "      <td>44.0</td>\n",
       "      <td>37</td>\n",
       "      <td>2236</td>\n",
       "      <td>41129</td>\n",
       "      <td>364</td>\n",
       "      <td>11715</td>\n",
       "      <td>122</td>\n",
       "      <td>20565</td>\n",
       "    </tr>\n",
       "    <tr>\n",
       "      <td>17</td>\n",
       "      <td>18</td>\n",
       "      <td>Kerala</td>\n",
       "      <td>933</td>\n",
       "      <td>229</td>\n",
       "      <td>82.0</td>\n",
       "      <td>53</td>\n",
       "      <td>1297</td>\n",
       "      <td>39511</td>\n",
       "      <td>981</td>\n",
       "      <td>16865</td>\n",
       "      <td>299</td>\n",
       "      <td>21139</td>\n",
       "    </tr>\n",
       "  </tbody>\n",
       "</table>\n",
       "</div>"
      ],
      "text/plain": [
       "    Sno        State/UT NumPrimaryHealthCenters_HMIS  \\\n",
       "30   31      Tamil Nadu                         1854   \n",
       "20   21     Maharashtra                         2638   \n",
       "1     2  Andhra Pradesh                         1417   \n",
       "33   34   Uttar Pradesh                         3277   \n",
       "16   17       Karnataka                         2547   \n",
       "28   29       Rajasthan                         2463   \n",
       "35   36     West Bengal                         1374   \n",
       "11   12         Gujarat                         1770   \n",
       "17   18          Kerala                          933   \n",
       "\n",
       "    NumCommunityHealthCenters_HMIS  NumSubDistrictHospitals_HMIS  \\\n",
       "30                             385                         310.0   \n",
       "20                             430                         101.0   \n",
       "1                              198                          31.0   \n",
       "33                             671                           NaN   \n",
       "16                             207                         147.0   \n",
       "28                             579                          64.0   \n",
       "35                             406                          70.0   \n",
       "11                             385                          44.0   \n",
       "17                             229                          82.0   \n",
       "\n",
       "    NumDistrictHospitals_HMIS  TotalPublicHealthFacilities_HMIS  \\\n",
       "30                         32                              2581   \n",
       "20                         70                              3239   \n",
       "1                          20                              1666   \n",
       "33                        174                              4122   \n",
       "16                         42                              2943   \n",
       "28                         33                              3139   \n",
       "35                         55                              1905   \n",
       "11                         37                              2236   \n",
       "17                         53                              1297   \n",
       "\n",
       "    NumPublicBeds_HMIS  NumRuralHospitals_NHP18  NumRuralBeds_NHP18  \\\n",
       "30               72616                      692               40179   \n",
       "20               68998                      273               12398   \n",
       "1                60799                      193                6480   \n",
       "33               58310                     4442               39104   \n",
       "16               56333                     2471               21072   \n",
       "28               51844                      602               21088   \n",
       "35               51163                     1272               19684   \n",
       "11               41129                      364               11715   \n",
       "17               39511                      981               16865   \n",
       "\n",
       "    NumUrbanHospitals_NHP18  NumUrbanBeds_NHP18  \n",
       "30                      525               37353  \n",
       "20                      438               39048  \n",
       "1                        65               16658  \n",
       "33                      193               37156  \n",
       "16                      374               49093  \n",
       "28                      150               10760  \n",
       "35                      294               58882  \n",
       "11                      122               20565  \n",
       "17                      299               21139  "
      ]
     },
     "execution_count": 81,
     "metadata": {},
     "output_type": "execute_result"
    }
   ],
   "source": [
    "# sort the dataset which state has heigher number of public beds\n",
    "\n",
    "df_hospital.sort_values(by=\"NumPublicBeds_HMIS\", ascending=False)[1:10]"
   ]
  },
  {
   "cell_type": "code",
   "execution_count": 79,
   "metadata": {},
   "outputs": [
    {
     "data": {
      "text/plain": [
       "<matplotlib.axes._subplots.AxesSubplot at 0x1bac85fa808>"
      ]
     },
     "execution_count": 79,
     "metadata": {},
     "output_type": "execute_result"
    },
    {
     "data": {
      "image/png": "[encoded data removed]",
      "text/plain": [
       "<Figure size 864x360 with 1 Axes>"
      ]
     },
     "metadata": {
      "needs_background": "light"
     },
     "output_type": "display_data"
    }
   ],
   "source": [
    "# plot the graph for number of public beds avilable\n",
    "\n",
    "df_hospital.sort_values(by=\"NumPublicBeds_HMIS\", ascending=False)[1:36].plot(x='State/UT',y='NumPublicBeds_HMIS',kind='bar', figsize=(12,5))\n"
   ]
  },
  {
   "cell_type": "markdown",
   "metadata": {},
   "source": [
    "- **Tamil Nadu is top in terms of Number of Public Beds has total 72616 beds**"
   ]
  },
  {
   "cell_type": "markdown",
   "metadata": {},
   "source": [
    "### Q6) Which state has Heigher number of Beds avilable in Urban areas & Rural areas?"
   ]
  },
  {
   "cell_type": "code",
   "execution_count": 72,
   "metadata": {},
   "outputs": [
    {
     "data": {
      "text/html": [
       "<div>\n",
       "<style scoped>\n",
       "    .dataframe tbody tr th:only-of-type {\n",
       "        vertical-align: middle;\n",
       "    }\n",
       "\n",
       "    .dataframe tbody tr th {\n",
       "        vertical-align: top;\n",
       "    }\n",
       "\n",
       "    .dataframe thead th {\n",
       "        text-align: right;\n",
       "    }\n",
       "</style>\n",
       "<table border=\"1\" class=\"dataframe\">\n",
       "  <thead>\n",
       "    <tr style=\"text-align: right;\">\n",
       "      <th></th>\n",
       "      <th>Sno</th>\n",
       "      <th>State/UT</th>\n",
       "      <th>NumPrimaryHealthCenters_HMIS</th>\n",
       "      <th>NumCommunityHealthCenters_HMIS</th>\n",
       "      <th>NumSubDistrictHospitals_HMIS</th>\n",
       "      <th>NumDistrictHospitals_HMIS</th>\n",
       "      <th>TotalPublicHealthFacilities_HMIS</th>\n",
       "      <th>NumPublicBeds_HMIS</th>\n",
       "      <th>NumRuralHospitals_NHP18</th>\n",
       "      <th>NumRuralBeds_NHP18</th>\n",
       "      <th>NumUrbanHospitals_NHP18</th>\n",
       "      <th>NumUrbanBeds_NHP18</th>\n",
       "    </tr>\n",
       "  </thead>\n",
       "  <tbody>\n",
       "    <tr>\n",
       "      <td>35</td>\n",
       "      <td>36</td>\n",
       "      <td>West Bengal</td>\n",
       "      <td>1374</td>\n",
       "      <td>406</td>\n",
       "      <td>70.0</td>\n",
       "      <td>55</td>\n",
       "      <td>1905</td>\n",
       "      <td>51163</td>\n",
       "      <td>1272</td>\n",
       "      <td>19684</td>\n",
       "      <td>294</td>\n",
       "      <td>58882</td>\n",
       "    </tr>\n",
       "    <tr>\n",
       "      <td>16</td>\n",
       "      <td>17</td>\n",
       "      <td>Karnataka</td>\n",
       "      <td>2547</td>\n",
       "      <td>207</td>\n",
       "      <td>147.0</td>\n",
       "      <td>42</td>\n",
       "      <td>2943</td>\n",
       "      <td>56333</td>\n",
       "      <td>2471</td>\n",
       "      <td>21072</td>\n",
       "      <td>374</td>\n",
       "      <td>49093</td>\n",
       "    </tr>\n",
       "    <tr>\n",
       "      <td>20</td>\n",
       "      <td>21</td>\n",
       "      <td>Maharashtra</td>\n",
       "      <td>2638</td>\n",
       "      <td>430</td>\n",
       "      <td>101.0</td>\n",
       "      <td>70</td>\n",
       "      <td>3239</td>\n",
       "      <td>68998</td>\n",
       "      <td>273</td>\n",
       "      <td>12398</td>\n",
       "      <td>438</td>\n",
       "      <td>39048</td>\n",
       "    </tr>\n",
       "    <tr>\n",
       "      <td>30</td>\n",
       "      <td>31</td>\n",
       "      <td>Tamil Nadu</td>\n",
       "      <td>1854</td>\n",
       "      <td>385</td>\n",
       "      <td>310.0</td>\n",
       "      <td>32</td>\n",
       "      <td>2581</td>\n",
       "      <td>72616</td>\n",
       "      <td>692</td>\n",
       "      <td>40179</td>\n",
       "      <td>525</td>\n",
       "      <td>37353</td>\n",
       "    </tr>\n",
       "    <tr>\n",
       "      <td>33</td>\n",
       "      <td>34</td>\n",
       "      <td>Uttar Pradesh</td>\n",
       "      <td>3277</td>\n",
       "      <td>671</td>\n",
       "      <td>NaN</td>\n",
       "      <td>174</td>\n",
       "      <td>4122</td>\n",
       "      <td>58310</td>\n",
       "      <td>4442</td>\n",
       "      <td>39104</td>\n",
       "      <td>193</td>\n",
       "      <td>37156</td>\n",
       "    </tr>\n",
       "    <tr>\n",
       "      <td>9</td>\n",
       "      <td>10</td>\n",
       "      <td>Delhi</td>\n",
       "      <td>534</td>\n",
       "      <td>25</td>\n",
       "      <td>9.0</td>\n",
       "      <td>47</td>\n",
       "      <td>615</td>\n",
       "      <td>20572</td>\n",
       "      <td>0</td>\n",
       "      <td>0</td>\n",
       "      <td>109</td>\n",
       "      <td>24383</td>\n",
       "    </tr>\n",
       "    <tr>\n",
       "      <td>17</td>\n",
       "      <td>18</td>\n",
       "      <td>Kerala</td>\n",
       "      <td>933</td>\n",
       "      <td>229</td>\n",
       "      <td>82.0</td>\n",
       "      <td>53</td>\n",
       "      <td>1297</td>\n",
       "      <td>39511</td>\n",
       "      <td>981</td>\n",
       "      <td>16865</td>\n",
       "      <td>299</td>\n",
       "      <td>21139</td>\n",
       "    </tr>\n",
       "    <tr>\n",
       "      <td>11</td>\n",
       "      <td>12</td>\n",
       "      <td>Gujarat</td>\n",
       "      <td>1770</td>\n",
       "      <td>385</td>\n",
       "      <td>44.0</td>\n",
       "      <td>37</td>\n",
       "      <td>2236</td>\n",
       "      <td>41129</td>\n",
       "      <td>364</td>\n",
       "      <td>11715</td>\n",
       "      <td>122</td>\n",
       "      <td>20565</td>\n",
       "    </tr>\n",
       "    <tr>\n",
       "      <td>19</td>\n",
       "      <td>20</td>\n",
       "      <td>Madhya Pradesh</td>\n",
       "      <td>1420</td>\n",
       "      <td>324</td>\n",
       "      <td>72.0</td>\n",
       "      <td>51</td>\n",
       "      <td>1867</td>\n",
       "      <td>38140</td>\n",
       "      <td>334</td>\n",
       "      <td>10020</td>\n",
       "      <td>117</td>\n",
       "      <td>18819</td>\n",
       "    </tr>\n",
       "  </tbody>\n",
       "</table>\n",
       "</div>"
      ],
      "text/plain": [
       "    Sno        State/UT NumPrimaryHealthCenters_HMIS  \\\n",
       "35   36     West Bengal                         1374   \n",
       "16   17       Karnataka                         2547   \n",
       "20   21     Maharashtra                         2638   \n",
       "30   31      Tamil Nadu                         1854   \n",
       "33   34   Uttar Pradesh                         3277   \n",
       "9    10           Delhi                          534   \n",
       "17   18          Kerala                          933   \n",
       "11   12         Gujarat                         1770   \n",
       "19   20  Madhya Pradesh                         1420   \n",
       "\n",
       "    NumCommunityHealthCenters_HMIS  NumSubDistrictHospitals_HMIS  \\\n",
       "35                             406                          70.0   \n",
       "16                             207                         147.0   \n",
       "20                             430                         101.0   \n",
       "30                             385                         310.0   \n",
       "33                             671                           NaN   \n",
       "9                               25                           9.0   \n",
       "17                             229                          82.0   \n",
       "11                             385                          44.0   \n",
       "19                             324                          72.0   \n",
       "\n",
       "    NumDistrictHospitals_HMIS  TotalPublicHealthFacilities_HMIS  \\\n",
       "35                         55                              1905   \n",
       "16                         42                              2943   \n",
       "20                         70                              3239   \n",
       "30                         32                              2581   \n",
       "33                        174                              4122   \n",
       "9                          47                               615   \n",
       "17                         53                              1297   \n",
       "11                         37                              2236   \n",
       "19                         51                              1867   \n",
       "\n",
       "    NumPublicBeds_HMIS  NumRuralHospitals_NHP18  NumRuralBeds_NHP18  \\\n",
       "35               51163                     1272               19684   \n",
       "16               56333                     2471               21072   \n",
       "20               68998                      273               12398   \n",
       "30               72616                      692               40179   \n",
       "33               58310                     4442               39104   \n",
       "9                20572                        0                   0   \n",
       "17               39511                      981               16865   \n",
       "11               41129                      364               11715   \n",
       "19               38140                      334               10020   \n",
       "\n",
       "    NumUrbanHospitals_NHP18  NumUrbanBeds_NHP18  \n",
       "35                      294               58882  \n",
       "16                      374               49093  \n",
       "20                      438               39048  \n",
       "30                      525               37353  \n",
       "33                      193               37156  \n",
       "9                       109               24383  \n",
       "17                      299               21139  \n",
       "11                      122               20565  \n",
       "19                      117               18819  "
      ]
     },
     "execution_count": 72,
     "metadata": {},
     "output_type": "execute_result"
    }
   ],
   "source": [
    "# sort the dateset by number of beds avilable\n",
    "\n",
    "df_hospital.sort_values(by=\"NumUrbanBeds_NHP18\", ascending=False)[1:10]"
   ]
  },
  {
   "cell_type": "code",
   "execution_count": 82,
   "metadata": {},
   "outputs": [
    {
     "data": {
      "text/plain": [
       "<matplotlib.axes._subplots.AxesSubplot at 0x1baca726688>"
      ]
     },
     "execution_count": 82,
     "metadata": {},
     "output_type": "execute_result"
    },
    {
     "data": {
      "image/png": "[encoded data removed]",
      "text/plain": [
       "<Figure size 864x360 with 1 Axes>"
      ]
     },
     "metadata": {
      "needs_background": "light"
     },
     "output_type": "display_data"
    }
   ],
   "source": [
    "# plot the graph for number of Urban beds avilable\n",
    "\n",
    "df_hospital.sort_values(by=\"NumUrbanBeds_NHP18\", ascending=False)[1:36].plot(x='State/UT',y='NumUrbanBeds_NHP18',kind='bar', figsize=(12,5))\n"
   ]
  },
  {
   "cell_type": "markdown",
   "metadata": {},
   "source": [
    "- **West Bengal is at top in terms of number of urban beds**"
   ]
  },
  {
   "cell_type": "code",
   "execution_count": 85,
   "metadata": {},
   "outputs": [
    {
     "data": {
      "text/html": [
       "<div>\n",
       "<style scoped>\n",
       "    .dataframe tbody tr th:only-of-type {\n",
       "        vertical-align: middle;\n",
       "    }\n",
       "\n",
       "    .dataframe tbody tr th {\n",
       "        vertical-align: top;\n",
       "    }\n",
       "\n",
       "    .dataframe thead th {\n",
       "        text-align: right;\n",
       "    }\n",
       "</style>\n",
       "<table border=\"1\" class=\"dataframe\">\n",
       "  <thead>\n",
       "    <tr style=\"text-align: right;\">\n",
       "      <th></th>\n",
       "      <th>Sno</th>\n",
       "      <th>State/UT</th>\n",
       "      <th>NumPrimaryHealthCenters_HMIS</th>\n",
       "      <th>NumCommunityHealthCenters_HMIS</th>\n",
       "      <th>NumSubDistrictHospitals_HMIS</th>\n",
       "      <th>NumDistrictHospitals_HMIS</th>\n",
       "      <th>TotalPublicHealthFacilities_HMIS</th>\n",
       "      <th>NumPublicBeds_HMIS</th>\n",
       "      <th>NumRuralHospitals_NHP18</th>\n",
       "      <th>NumRuralBeds_NHP18</th>\n",
       "      <th>NumUrbanHospitals_NHP18</th>\n",
       "      <th>NumUrbanBeds_NHP18</th>\n",
       "    </tr>\n",
       "  </thead>\n",
       "  <tbody>\n",
       "    <tr>\n",
       "      <td>30</td>\n",
       "      <td>31</td>\n",
       "      <td>Tamil Nadu</td>\n",
       "      <td>1854</td>\n",
       "      <td>385</td>\n",
       "      <td>310.0</td>\n",
       "      <td>32</td>\n",
       "      <td>2581</td>\n",
       "      <td>72616</td>\n",
       "      <td>692</td>\n",
       "      <td>40179</td>\n",
       "      <td>525</td>\n",
       "      <td>37353</td>\n",
       "    </tr>\n",
       "    <tr>\n",
       "      <td>33</td>\n",
       "      <td>34</td>\n",
       "      <td>Uttar Pradesh</td>\n",
       "      <td>3277</td>\n",
       "      <td>671</td>\n",
       "      <td>NaN</td>\n",
       "      <td>174</td>\n",
       "      <td>4122</td>\n",
       "      <td>58310</td>\n",
       "      <td>4442</td>\n",
       "      <td>39104</td>\n",
       "      <td>193</td>\n",
       "      <td>37156</td>\n",
       "    </tr>\n",
       "    <tr>\n",
       "      <td>28</td>\n",
       "      <td>29</td>\n",
       "      <td>Rajasthan</td>\n",
       "      <td>2463</td>\n",
       "      <td>579</td>\n",
       "      <td>64.0</td>\n",
       "      <td>33</td>\n",
       "      <td>3139</td>\n",
       "      <td>51844</td>\n",
       "      <td>602</td>\n",
       "      <td>21088</td>\n",
       "      <td>150</td>\n",
       "      <td>10760</td>\n",
       "    </tr>\n",
       "    <tr>\n",
       "      <td>16</td>\n",
       "      <td>17</td>\n",
       "      <td>Karnataka</td>\n",
       "      <td>2547</td>\n",
       "      <td>207</td>\n",
       "      <td>147.0</td>\n",
       "      <td>42</td>\n",
       "      <td>2943</td>\n",
       "      <td>56333</td>\n",
       "      <td>2471</td>\n",
       "      <td>21072</td>\n",
       "      <td>374</td>\n",
       "      <td>49093</td>\n",
       "    </tr>\n",
       "    <tr>\n",
       "      <td>35</td>\n",
       "      <td>36</td>\n",
       "      <td>West Bengal</td>\n",
       "      <td>1374</td>\n",
       "      <td>406</td>\n",
       "      <td>70.0</td>\n",
       "      <td>55</td>\n",
       "      <td>1905</td>\n",
       "      <td>51163</td>\n",
       "      <td>1272</td>\n",
       "      <td>19684</td>\n",
       "      <td>294</td>\n",
       "      <td>58882</td>\n",
       "    </tr>\n",
       "    <tr>\n",
       "      <td>17</td>\n",
       "      <td>18</td>\n",
       "      <td>Kerala</td>\n",
       "      <td>933</td>\n",
       "      <td>229</td>\n",
       "      <td>82.0</td>\n",
       "      <td>53</td>\n",
       "      <td>1297</td>\n",
       "      <td>39511</td>\n",
       "      <td>981</td>\n",
       "      <td>16865</td>\n",
       "      <td>299</td>\n",
       "      <td>21139</td>\n",
       "    </tr>\n",
       "    <tr>\n",
       "      <td>20</td>\n",
       "      <td>21</td>\n",
       "      <td>Maharashtra</td>\n",
       "      <td>2638</td>\n",
       "      <td>430</td>\n",
       "      <td>101.0</td>\n",
       "      <td>70</td>\n",
       "      <td>3239</td>\n",
       "      <td>68998</td>\n",
       "      <td>273</td>\n",
       "      <td>12398</td>\n",
       "      <td>438</td>\n",
       "      <td>39048</td>\n",
       "    </tr>\n",
       "    <tr>\n",
       "      <td>11</td>\n",
       "      <td>12</td>\n",
       "      <td>Gujarat</td>\n",
       "      <td>1770</td>\n",
       "      <td>385</td>\n",
       "      <td>44.0</td>\n",
       "      <td>37</td>\n",
       "      <td>2236</td>\n",
       "      <td>41129</td>\n",
       "      <td>364</td>\n",
       "      <td>11715</td>\n",
       "      <td>122</td>\n",
       "      <td>20565</td>\n",
       "    </tr>\n",
       "    <tr>\n",
       "      <td>3</td>\n",
       "      <td>4</td>\n",
       "      <td>Assam</td>\n",
       "      <td>1007</td>\n",
       "      <td>166</td>\n",
       "      <td>14.0</td>\n",
       "      <td>33</td>\n",
       "      <td>1220</td>\n",
       "      <td>19115</td>\n",
       "      <td>1176</td>\n",
       "      <td>10944</td>\n",
       "      <td>50</td>\n",
       "      <td>6198</td>\n",
       "    </tr>\n",
       "  </tbody>\n",
       "</table>\n",
       "</div>"
      ],
      "text/plain": [
       "    Sno       State/UT NumPrimaryHealthCenters_HMIS  \\\n",
       "30   31     Tamil Nadu                         1854   \n",
       "33   34  Uttar Pradesh                         3277   \n",
       "28   29      Rajasthan                         2463   \n",
       "16   17      Karnataka                         2547   \n",
       "35   36    West Bengal                         1374   \n",
       "17   18         Kerala                          933   \n",
       "20   21    Maharashtra                         2638   \n",
       "11   12        Gujarat                         1770   \n",
       "3     4          Assam                         1007   \n",
       "\n",
       "    NumCommunityHealthCenters_HMIS  NumSubDistrictHospitals_HMIS  \\\n",
       "30                             385                         310.0   \n",
       "33                             671                           NaN   \n",
       "28                             579                          64.0   \n",
       "16                             207                         147.0   \n",
       "35                             406                          70.0   \n",
       "17                             229                          82.0   \n",
       "20                             430                         101.0   \n",
       "11                             385                          44.0   \n",
       "3                              166                          14.0   \n",
       "\n",
       "    NumDistrictHospitals_HMIS  TotalPublicHealthFacilities_HMIS  \\\n",
       "30                         32                              2581   \n",
       "33                        174                              4122   \n",
       "28                         33                              3139   \n",
       "16                         42                              2943   \n",
       "35                         55                              1905   \n",
       "17                         53                              1297   \n",
       "20                         70                              3239   \n",
       "11                         37                              2236   \n",
       "3                          33                              1220   \n",
       "\n",
       "    NumPublicBeds_HMIS  NumRuralHospitals_NHP18  NumRuralBeds_NHP18  \\\n",
       "30               72616                      692               40179   \n",
       "33               58310                     4442               39104   \n",
       "28               51844                      602               21088   \n",
       "16               56333                     2471               21072   \n",
       "35               51163                     1272               19684   \n",
       "17               39511                      981               16865   \n",
       "20               68998                      273               12398   \n",
       "11               41129                      364               11715   \n",
       "3                19115                     1176               10944   \n",
       "\n",
       "    NumUrbanHospitals_NHP18  NumUrbanBeds_NHP18  \n",
       "30                      525               37353  \n",
       "33                      193               37156  \n",
       "28                      150               10760  \n",
       "16                      374               49093  \n",
       "35                      294               58882  \n",
       "17                      299               21139  \n",
       "20                      438               39048  \n",
       "11                      122               20565  \n",
       "3                        50                6198  "
      ]
     },
     "execution_count": 85,
     "metadata": {},
     "output_type": "execute_result"
    }
   ],
   "source": [
    "# sort the dateset by number of Rural beds avilable\n",
    "\n",
    "df_hospital.sort_values(by=\"NumRuralBeds_NHP18\", ascending=False)[1:10]"
   ]
  },
  {
   "cell_type": "code",
   "execution_count": 86,
   "metadata": {},
   "outputs": [
    {
     "data": {
      "text/plain": [
       "<matplotlib.axes._subplots.AxesSubplot at 0x1bacabf0a88>"
      ]
     },
     "execution_count": 86,
     "metadata": {},
     "output_type": "execute_result"
    },
    {
     "data": {
      "image/png": "[encoded data removed]",
      "text/plain": [
       "<Figure size 864x360 with 1 Axes>"
      ]
     },
     "metadata": {
      "needs_background": "light"
     },
     "output_type": "display_data"
    }
   ],
   "source": [
    "# plot the graph for number of Rural beds avilable\n",
    "\n",
    "df_hospital.sort_values(by=\"NumRuralBeds_NHP18\", ascending=False)[1:36].plot(x='State/UT',y='NumRuralBeds_NHP18',kind='bar', figsize=(12,5))\n"
   ]
  },
  {
   "cell_type": "markdown",
   "metadata": {},
   "source": [
    "- **Tamil Nadu is at top in terms of number of Rural beds**"
   ]
  },
  {
   "cell_type": "markdown",
   "metadata": {},
   "source": [
    "## DataSet - Individual Details"
   ]
  },
  {
   "cell_type": "code",
   "execution_count": 32,
   "metadata": {},
   "outputs": [
    {
     "data": {
      "text/html": [
       "<div>\n",
       "<style scoped>\n",
       "    .dataframe tbody tr th:only-of-type {\n",
       "        vertical-align: middle;\n",
       "    }\n",
       "\n",
       "    .dataframe tbody tr th {\n",
       "        vertical-align: top;\n",
       "    }\n",
       "\n",
       "    .dataframe thead th {\n",
       "        text-align: right;\n",
       "    }\n",
       "</style>\n",
       "<table border=\"1\" class=\"dataframe\">\n",
       "  <thead>\n",
       "    <tr style=\"text-align: right;\">\n",
       "      <th></th>\n",
       "      <th>id</th>\n",
       "      <th>government_id</th>\n",
       "      <th>diagnosed_date</th>\n",
       "      <th>age</th>\n",
       "      <th>gender</th>\n",
       "      <th>detected_city</th>\n",
       "      <th>detected_district</th>\n",
       "      <th>detected_state</th>\n",
       "      <th>nationality</th>\n",
       "      <th>current_status</th>\n",
       "      <th>status_change_date</th>\n",
       "      <th>notes</th>\n",
       "    </tr>\n",
       "  </thead>\n",
       "  <tbody>\n",
       "    <tr>\n",
       "      <td>0</td>\n",
       "      <td>0</td>\n",
       "      <td>KL-TS-P1</td>\n",
       "      <td>30/01/2020</td>\n",
       "      <td>20</td>\n",
       "      <td>F</td>\n",
       "      <td>Thrissur</td>\n",
       "      <td>Thrissur</td>\n",
       "      <td>Kerala</td>\n",
       "      <td>India</td>\n",
       "      <td>Recovered</td>\n",
       "      <td>14/02/2020</td>\n",
       "      <td>Travelled from Wuhan</td>\n",
       "    </tr>\n",
       "    <tr>\n",
       "      <td>1</td>\n",
       "      <td>1</td>\n",
       "      <td>KL-AL-P1</td>\n",
       "      <td>02/02/2020</td>\n",
       "      <td>NaN</td>\n",
       "      <td>NaN</td>\n",
       "      <td>Alappuzha</td>\n",
       "      <td>Alappuzha</td>\n",
       "      <td>Kerala</td>\n",
       "      <td>India</td>\n",
       "      <td>Recovered</td>\n",
       "      <td>14/02/2020</td>\n",
       "      <td>Travelled from Wuhan</td>\n",
       "    </tr>\n",
       "    <tr>\n",
       "      <td>2</td>\n",
       "      <td>2</td>\n",
       "      <td>KL-KS-P1</td>\n",
       "      <td>03/02/2020</td>\n",
       "      <td>NaN</td>\n",
       "      <td>NaN</td>\n",
       "      <td>Kasaragod</td>\n",
       "      <td>Kasaragod</td>\n",
       "      <td>Kerala</td>\n",
       "      <td>India</td>\n",
       "      <td>Recovered</td>\n",
       "      <td>14/02/2020</td>\n",
       "      <td>Travelled from Wuhan</td>\n",
       "    </tr>\n",
       "    <tr>\n",
       "      <td>3</td>\n",
       "      <td>3</td>\n",
       "      <td>DL-P1</td>\n",
       "      <td>02/03/2020</td>\n",
       "      <td>45</td>\n",
       "      <td>M</td>\n",
       "      <td>East Delhi (Mayur Vihar)</td>\n",
       "      <td>East Delhi</td>\n",
       "      <td>Delhi</td>\n",
       "      <td>India</td>\n",
       "      <td>Recovered</td>\n",
       "      <td>15/03/2020</td>\n",
       "      <td>Travelled from Austria, Italy</td>\n",
       "    </tr>\n",
       "    <tr>\n",
       "      <td>4</td>\n",
       "      <td>4</td>\n",
       "      <td>TS-P1</td>\n",
       "      <td>02/03/2020</td>\n",
       "      <td>24</td>\n",
       "      <td>M</td>\n",
       "      <td>Hyderabad</td>\n",
       "      <td>Hyderabad</td>\n",
       "      <td>Telangana</td>\n",
       "      <td>India</td>\n",
       "      <td>Recovered</td>\n",
       "      <td>02/03/2020</td>\n",
       "      <td>Travelled from Dubai to Bangalore on 20th Feb,...</td>\n",
       "    </tr>\n",
       "  </tbody>\n",
       "</table>\n",
       "</div>"
      ],
      "text/plain": [
       "   id government_id diagnosed_date  age gender             detected_city  \\\n",
       "0   0      KL-TS-P1     30/01/2020   20      F                  Thrissur   \n",
       "1   1      KL-AL-P1     02/02/2020  NaN    NaN                 Alappuzha   \n",
       "2   2      KL-KS-P1     03/02/2020  NaN    NaN                 Kasaragod   \n",
       "3   3         DL-P1     02/03/2020   45      M  East Delhi (Mayur Vihar)   \n",
       "4   4         TS-P1     02/03/2020   24      M                 Hyderabad   \n",
       "\n",
       "  detected_district detected_state nationality current_status  \\\n",
       "0          Thrissur         Kerala       India      Recovered   \n",
       "1         Alappuzha         Kerala       India      Recovered   \n",
       "2         Kasaragod         Kerala       India      Recovered   \n",
       "3        East Delhi          Delhi       India      Recovered   \n",
       "4         Hyderabad      Telangana       India      Recovered   \n",
       "\n",
       "  status_change_date                                              notes  \n",
       "0         14/02/2020                               Travelled from Wuhan  \n",
       "1         14/02/2020                               Travelled from Wuhan  \n",
       "2         14/02/2020                               Travelled from Wuhan  \n",
       "3         15/03/2020                      Travelled from Austria, Italy  \n",
       "4         02/03/2020  Travelled from Dubai to Bangalore on 20th Feb,...  "
      ]
     },
     "execution_count": 32,
     "metadata": {},
     "output_type": "execute_result"
    }
   ],
   "source": [
    "# read the dataset\n",
    "\n",
    "df_individual = pd.read_csv(\"Dataset/IndividualDetails.csv\")\n",
    "df_individual.head()"
   ]
  },
  {
   "cell_type": "code",
   "execution_count": 33,
   "metadata": {},
   "outputs": [
    {
     "name": "stdout",
     "output_type": "stream",
     "text": [
      "<class 'pandas.core.frame.DataFrame'>\n",
      "RangeIndex: 28182 entries, 0 to 28181\n",
      "Data columns (total 12 columns):\n",
      "id                    28182 non-null int64\n",
      "government_id         2997 non-null object\n",
      "diagnosed_date        28182 non-null object\n",
      "age                   2346 non-null object\n",
      "gender                5313 non-null object\n",
      "detected_city         2350 non-null object\n",
      "detected_district     21198 non-null object\n",
      "detected_state        28182 non-null object\n",
      "nationality           2709 non-null object\n",
      "current_status        28182 non-null object\n",
      "status_change_date    27780 non-null object\n",
      "notes                 26847 non-null object\n",
      "dtypes: int64(1), object(11)\n",
      "memory usage: 2.6+ MB\n"
     ]
    }
   ],
   "source": [
    "# dataset info\n",
    "\n",
    "df_individual.info()\n"
   ]
  },
  {
   "cell_type": "markdown",
   "metadata": {},
   "source": [
    "### Q7) what are the number of people hospitalized, recoverd, Decased and Migrated?"
   ]
  },
  {
   "cell_type": "code",
   "execution_count": 34,
   "metadata": {},
   "outputs": [
    {
     "data": {
      "text/plain": [
       "Hospitalized    27953\n",
       "Recovered         182\n",
       "Deceased           46\n",
       "Migrated            1\n",
       "Name: current_status, dtype: int64"
      ]
     },
     "execution_count": 34,
     "metadata": {},
     "output_type": "execute_result"
    }
   ],
   "source": [
    "# current status \n",
    "\n",
    "df_individual['current_status'].value_counts()"
   ]
  },
  {
   "cell_type": "markdown",
   "metadata": {},
   "source": []
  },
  {
   "cell_type": "code",
   "execution_count": 89,
   "metadata": {},
   "outputs": [
    {
     "data": {
      "text/plain": [
       "<matplotlib.axes._subplots.AxesSubplot at 0x1bacaecd088>"
      ]
     },
     "execution_count": 89,
     "metadata": {},
     "output_type": "execute_result"
    },
    {
     "data": {
      "image/png": "[encoded data removed]",
      "text/plain": [
       "<Figure size 864x576 with 1 Axes>"
      ]
     },
     "metadata": {
      "needs_background": "light"
     },
     "output_type": "display_data"
    }
   ],
   "source": [
    "# plot the graph for number of people hospitalized, recoverd, Decased and Migrated\n",
    "\n",
    "df_individual['current_status'].value_counts().plot(kind='bar', figsize=(12,8))\n"
   ]
  },
  {
   "cell_type": "markdown",
   "metadata": {},
   "source": [
    "- **According to DataSet 27953 are Hospitalized**\n",
    "- **According to DataSet 182 are Recovered**         \n",
    "- **According to DataSet 46 are Deceased**  \n",
    "- **According to DataSet 1 are Migrated**                       "
   ]
  },
  {
   "cell_type": "markdown",
   "metadata": {},
   "source": [
    "## DataSet - StateWise Testing Details"
   ]
  },
  {
   "cell_type": "code",
   "execution_count": 36,
   "metadata": {},
   "outputs": [
    {
     "data": {
      "text/html": [
       "<div>\n",
       "<style scoped>\n",
       "    .dataframe tbody tr th:only-of-type {\n",
       "        vertical-align: middle;\n",
       "    }\n",
       "\n",
       "    .dataframe tbody tr th {\n",
       "        vertical-align: top;\n",
       "    }\n",
       "\n",
       "    .dataframe thead th {\n",
       "        text-align: right;\n",
       "    }\n",
       "</style>\n",
       "<table border=\"1\" class=\"dataframe\">\n",
       "  <thead>\n",
       "    <tr style=\"text-align: right;\">\n",
       "      <th></th>\n",
       "      <th>Date</th>\n",
       "      <th>State</th>\n",
       "      <th>TotalSamples</th>\n",
       "      <th>Negative</th>\n",
       "      <th>Positive</th>\n",
       "    </tr>\n",
       "  </thead>\n",
       "  <tbody>\n",
       "    <tr>\n",
       "      <td>0</td>\n",
       "      <td>2020-04-17</td>\n",
       "      <td>Andaman and Nicobar Islands</td>\n",
       "      <td>1403.0</td>\n",
       "      <td>1210</td>\n",
       "      <td>12.0</td>\n",
       "    </tr>\n",
       "    <tr>\n",
       "      <td>1</td>\n",
       "      <td>2020-04-24</td>\n",
       "      <td>Andaman and Nicobar Islands</td>\n",
       "      <td>2679.0</td>\n",
       "      <td>NaN</td>\n",
       "      <td>27.0</td>\n",
       "    </tr>\n",
       "    <tr>\n",
       "      <td>2</td>\n",
       "      <td>2020-04-27</td>\n",
       "      <td>Andaman and Nicobar Islands</td>\n",
       "      <td>2848.0</td>\n",
       "      <td>NaN</td>\n",
       "      <td>33.0</td>\n",
       "    </tr>\n",
       "    <tr>\n",
       "      <td>3</td>\n",
       "      <td>2020-05-01</td>\n",
       "      <td>Andaman and Nicobar Islands</td>\n",
       "      <td>3754.0</td>\n",
       "      <td>NaN</td>\n",
       "      <td>33.0</td>\n",
       "    </tr>\n",
       "    <tr>\n",
       "      <td>4</td>\n",
       "      <td>2020-05-16</td>\n",
       "      <td>Andaman and Nicobar Islands</td>\n",
       "      <td>6677.0</td>\n",
       "      <td>NaN</td>\n",
       "      <td>33.0</td>\n",
       "    </tr>\n",
       "    <tr>\n",
       "      <td>...</td>\n",
       "      <td>...</td>\n",
       "      <td>...</td>\n",
       "      <td>...</td>\n",
       "      <td>...</td>\n",
       "      <td>...</td>\n",
       "    </tr>\n",
       "    <tr>\n",
       "      <td>3013</td>\n",
       "      <td>2020-07-08</td>\n",
       "      <td>West Bengal</td>\n",
       "      <td>572523.0</td>\n",
       "      <td>NaN</td>\n",
       "      <td>24823.0</td>\n",
       "    </tr>\n",
       "    <tr>\n",
       "      <td>3014</td>\n",
       "      <td>2020-07-09</td>\n",
       "      <td>West Bengal</td>\n",
       "      <td>583328.0</td>\n",
       "      <td>NaN</td>\n",
       "      <td>25911.0</td>\n",
       "    </tr>\n",
       "    <tr>\n",
       "      <td>3015</td>\n",
       "      <td>2020-07-10</td>\n",
       "      <td>West Bengal</td>\n",
       "      <td>593967.0</td>\n",
       "      <td>NaN</td>\n",
       "      <td>27109.0</td>\n",
       "    </tr>\n",
       "    <tr>\n",
       "      <td>3016</td>\n",
       "      <td>2020-07-11</td>\n",
       "      <td>West Bengal</td>\n",
       "      <td>605370.0</td>\n",
       "      <td>NaN</td>\n",
       "      <td>28453.0</td>\n",
       "    </tr>\n",
       "    <tr>\n",
       "      <td>3017</td>\n",
       "      <td>2020-07-12</td>\n",
       "      <td>West Bengal</td>\n",
       "      <td>617079.0</td>\n",
       "      <td>NaN</td>\n",
       "      <td>30013.0</td>\n",
       "    </tr>\n",
       "  </tbody>\n",
       "</table>\n",
       "<p>3018 rows × 5 columns</p>\n",
       "</div>"
      ],
      "text/plain": [
       "            Date                        State  TotalSamples Negative  Positive\n",
       "0     2020-04-17  Andaman and Nicobar Islands        1403.0     1210      12.0\n",
       "1     2020-04-24  Andaman and Nicobar Islands        2679.0      NaN      27.0\n",
       "2     2020-04-27  Andaman and Nicobar Islands        2848.0      NaN      33.0\n",
       "3     2020-05-01  Andaman and Nicobar Islands        3754.0      NaN      33.0\n",
       "4     2020-05-16  Andaman and Nicobar Islands        6677.0      NaN      33.0\n",
       "...          ...                          ...           ...      ...       ...\n",
       "3013  2020-07-08                  West Bengal      572523.0      NaN   24823.0\n",
       "3014  2020-07-09                  West Bengal      583328.0      NaN   25911.0\n",
       "3015  2020-07-10                  West Bengal      593967.0      NaN   27109.0\n",
       "3016  2020-07-11                  West Bengal      605370.0      NaN   28453.0\n",
       "3017  2020-07-12                  West Bengal      617079.0      NaN   30013.0\n",
       "\n",
       "[3018 rows x 5 columns]"
      ]
     },
     "execution_count": 36,
     "metadata": {},
     "output_type": "execute_result"
    }
   ],
   "source": [
    "# read the datset\n",
    "\n",
    "df_testing = pd.read_csv(\"Dataset/StatewiseTestingDetails.csv\")\n",
    "df_testing"
   ]
  },
  {
   "cell_type": "code",
   "execution_count": 37,
   "metadata": {},
   "outputs": [
    {
     "name": "stdout",
     "output_type": "stream",
     "text": [
      "<class 'pandas.core.frame.DataFrame'>\n",
      "RangeIndex: 3018 entries, 0 to 3017\n",
      "Data columns (total 5 columns):\n",
      "Date            3018 non-null object\n",
      "State           3018 non-null object\n",
      "TotalSamples    3018 non-null float64\n",
      "Negative        2080 non-null object\n",
      "Positive        3009 non-null float64\n",
      "dtypes: float64(2), object(3)\n",
      "memory usage: 118.0+ KB\n"
     ]
    }
   ],
   "source": [
    "# dataset Info\n",
    "\n",
    "df_testing.info()"
   ]
  },
  {
   "cell_type": "code",
   "execution_count": 38,
   "metadata": {},
   "outputs": [
    {
     "name": "stdout",
     "output_type": "stream",
     "text": [
      "<class 'pandas.core.frame.DataFrame'>\n",
      "RangeIndex: 3018 entries, 0 to 3017\n",
      "Data columns (total 5 columns):\n",
      "Date            3018 non-null object\n",
      "State           3018 non-null object\n",
      "TotalSamples    3018 non-null float64\n",
      "Negative        2079 non-null float64\n",
      "Positive        3009 non-null float64\n",
      "dtypes: float64(3), object(2)\n",
      "memory usage: 118.0+ KB\n"
     ]
    }
   ],
   "source": [
    "# coverte the negative column from string to float\n",
    "\n",
    "\n",
    "df_testing_details = pd.DataFrame(df_testing)\n",
    "\n",
    "df_testing_details['Negative'] = pd.to_numeric(df_testing_details['Negative'], errors='coerce')\n",
    "\n",
    "df_testing_details.info()"
   ]
  },
  {
   "cell_type": "code",
   "execution_count": 39,
   "metadata": {},
   "outputs": [
    {
     "name": "stdout",
     "output_type": "stream",
     "text": [
      "Datatype of Negative column are : float64\n"
     ]
    }
   ],
   "source": [
    "# Check weather the Negative column converted from string to float or not\n",
    "\n",
    "print(\"Datatype of Negative column are :\", df_testing_details['Negative'].dtype)"
   ]
  },
  {
   "cell_type": "markdown",
   "metadata": {},
   "source": [
    "- **Negative Column converted to float**"
   ]
  },
  {
   "cell_type": "code",
   "execution_count": 40,
   "metadata": {},
   "outputs": [
    {
     "name": "stdout",
     "output_type": "stream",
     "text": [
      "The number of value dtaset contain are : Date              0\n",
      "State             0\n",
      "TotalSamples      0\n",
      "Negative        939\n",
      "Positive          9\n",
      "dtype: int64\n"
     ]
    }
   ],
   "source": [
    "# check weather dataset contain any null values\n",
    "\n",
    "print(\"The number of value dtaset contain are :\",df_testing_details.isnull().sum())"
   ]
  },
  {
   "cell_type": "code",
   "execution_count": 41,
   "metadata": {},
   "outputs": [],
   "source": [
    "# remove the null values\n",
    "\n",
    "df_test = df_testing_details.dropna(subset=['Negative', 'Positive'])"
   ]
  },
  {
   "cell_type": "code",
   "execution_count": 42,
   "metadata": {},
   "outputs": [
    {
     "name": "stdout",
     "output_type": "stream",
     "text": [
      "The number of null value dataset contains are : Date            0\n",
      "State           0\n",
      "TotalSamples    0\n",
      "Negative        0\n",
      "Positive        0\n",
      "dtype: int64\n"
     ]
    }
   ],
   "source": [
    "# Check the null values are droped or not\n",
    "\n",
    "print(\"The number of null value dataset contains are :\",df_test.isnull().sum())"
   ]
  },
  {
   "cell_type": "markdown",
   "metadata": {},
   "source": [
    "- **Clearly, all null value are removed now**"
   ]
  },
  {
   "cell_type": "markdown",
   "metadata": {},
   "source": [
    "### Q8) Which state has most number of sample testing on 12/07/2020?"
   ]
  },
  {
   "cell_type": "code",
   "execution_count": 90,
   "metadata": {},
   "outputs": [
    {
     "data": {
      "text/html": [
       "<div>\n",
       "<style scoped>\n",
       "    .dataframe tbody tr th:only-of-type {\n",
       "        vertical-align: middle;\n",
       "    }\n",
       "\n",
       "    .dataframe tbody tr th {\n",
       "        vertical-align: top;\n",
       "    }\n",
       "\n",
       "    .dataframe thead th {\n",
       "        text-align: right;\n",
       "    }\n",
       "</style>\n",
       "<table border=\"1\" class=\"dataframe\">\n",
       "  <thead>\n",
       "    <tr style=\"text-align: right;\">\n",
       "      <th></th>\n",
       "      <th>Date</th>\n",
       "      <th>State</th>\n",
       "      <th>TotalSamples</th>\n",
       "      <th>Negative</th>\n",
       "      <th>Positive</th>\n",
       "    </tr>\n",
       "  </thead>\n",
       "  <tbody>\n",
       "    <tr>\n",
       "      <td>1770</td>\n",
       "      <td>2020-07-12</td>\n",
       "      <td>Maharashtra</td>\n",
       "      <td>1321715.0</td>\n",
       "      <td>1062678.0</td>\n",
       "      <td>259037.0</td>\n",
       "    </tr>\n",
       "    <tr>\n",
       "      <td>1769</td>\n",
       "      <td>2020-07-11</td>\n",
       "      <td>Maharashtra</td>\n",
       "      <td>1289325.0</td>\n",
       "      <td>1037883.0</td>\n",
       "      <td>251442.0</td>\n",
       "    </tr>\n",
       "    <tr>\n",
       "      <td>1768</td>\n",
       "      <td>2020-07-10</td>\n",
       "      <td>Maharashtra</td>\n",
       "      <td>1257564.0</td>\n",
       "      <td>1014697.0</td>\n",
       "      <td>242867.0</td>\n",
       "    </tr>\n",
       "    <tr>\n",
       "      <td>1767</td>\n",
       "      <td>2020-07-09</td>\n",
       "      <td>Maharashtra</td>\n",
       "      <td>1225831.0</td>\n",
       "      <td>990978.0</td>\n",
       "      <td>234853.0</td>\n",
       "    </tr>\n",
       "    <tr>\n",
       "      <td>1766</td>\n",
       "      <td>2020-07-08</td>\n",
       "      <td>Maharashtra</td>\n",
       "      <td>1194565.0</td>\n",
       "      <td>966881.0</td>\n",
       "      <td>227684.0</td>\n",
       "    </tr>\n",
       "    <tr>\n",
       "      <td>2604</td>\n",
       "      <td>2020-06-30</td>\n",
       "      <td>Tamil Nadu</td>\n",
       "      <td>1170683.0</td>\n",
       "      <td>1080516.0</td>\n",
       "      <td>90167.0</td>\n",
       "    </tr>\n",
       "    <tr>\n",
       "      <td>1765</td>\n",
       "      <td>2020-07-07</td>\n",
       "      <td>Maharashtra</td>\n",
       "      <td>1164860.0</td>\n",
       "      <td>944044.0</td>\n",
       "      <td>220816.0</td>\n",
       "    </tr>\n",
       "    <tr>\n",
       "      <td>151</td>\n",
       "      <td>2020-07-12</td>\n",
       "      <td>Andhra Pradesh</td>\n",
       "      <td>1153849.0</td>\n",
       "      <td>1124681.0</td>\n",
       "      <td>29168.0</td>\n",
       "    </tr>\n",
       "    <tr>\n",
       "      <td>2603</td>\n",
       "      <td>2020-06-29</td>\n",
       "      <td>Tamil Nadu</td>\n",
       "      <td>1140441.0</td>\n",
       "      <td>1054217.0</td>\n",
       "      <td>86224.0</td>\n",
       "    </tr>\n",
       "    <tr>\n",
       "      <td>1764</td>\n",
       "      <td>2020-07-06</td>\n",
       "      <td>Maharashtra</td>\n",
       "      <td>1138706.0</td>\n",
       "      <td>922627.0</td>\n",
       "      <td>216079.0</td>\n",
       "    </tr>\n",
       "  </tbody>\n",
       "</table>\n",
       "</div>"
      ],
      "text/plain": [
       "            Date           State  TotalSamples   Negative  Positive\n",
       "1770  2020-07-12     Maharashtra     1321715.0  1062678.0  259037.0\n",
       "1769  2020-07-11     Maharashtra     1289325.0  1037883.0  251442.0\n",
       "1768  2020-07-10     Maharashtra     1257564.0  1014697.0  242867.0\n",
       "1767  2020-07-09     Maharashtra     1225831.0   990978.0  234853.0\n",
       "1766  2020-07-08     Maharashtra     1194565.0   966881.0  227684.0\n",
       "2604  2020-06-30      Tamil Nadu     1170683.0  1080516.0   90167.0\n",
       "1765  2020-07-07     Maharashtra     1164860.0   944044.0  220816.0\n",
       "151   2020-07-12  Andhra Pradesh     1153849.0  1124681.0   29168.0\n",
       "2603  2020-06-29      Tamil Nadu     1140441.0  1054217.0   86224.0\n",
       "1764  2020-07-06     Maharashtra     1138706.0   922627.0  216079.0"
      ]
     },
     "execution_count": 90,
     "metadata": {},
     "output_type": "execute_result"
    }
   ],
   "source": [
    "# sort the dataset by number of total cases\n",
    "\n",
    "df_test.sort_values(by='TotalSamples', ascending = False)[:10]"
   ]
  },
  {
   "cell_type": "code",
   "execution_count": 96,
   "metadata": {},
   "outputs": [
    {
     "data": {
      "text/plain": [
       "<matplotlib.axes._subplots.AxesSubplot at 0x1bacbdd3b88>"
      ]
     },
     "execution_count": 96,
     "metadata": {},
     "output_type": "execute_result"
    },
    {
     "data": {
      "image/png": "[encoded data removed]",
      "text/plain": [
       "<Figure size 1008x648 with 1 Axes>"
      ]
     },
     "metadata": {
      "needs_background": "light"
     },
     "output_type": "display_data"
    }
   ],
   "source": [
    "# plot the graph for total number of sample\n",
    "\n",
    "df_test.sort_values(by=\"TotalSamples\", ascending=False)[1:36].plot(x='State',y='TotalSamples',kind='bar', figsize=(14,9))\n"
   ]
  },
  {
   "cell_type": "markdown",
   "metadata": {},
   "source": [
    "- **Maharashtra has 1321715.0 total sample on 12/07/2020**\n"
   ]
  },
  {
   "cell_type": "code",
   "execution_count": 100,
   "metadata": {},
   "outputs": [
    {
     "data": {
      "text/html": [
       "<div>\n",
       "<style scoped>\n",
       "    .dataframe tbody tr th:only-of-type {\n",
       "        vertical-align: middle;\n",
       "    }\n",
       "\n",
       "    .dataframe tbody tr th {\n",
       "        vertical-align: top;\n",
       "    }\n",
       "\n",
       "    .dataframe thead th {\n",
       "        text-align: right;\n",
       "    }\n",
       "</style>\n",
       "<table border=\"1\" class=\"dataframe\">\n",
       "  <thead>\n",
       "    <tr style=\"text-align: right;\">\n",
       "      <th></th>\n",
       "      <th>Date</th>\n",
       "      <th>State</th>\n",
       "      <th>TotalSamples</th>\n",
       "      <th>Negative</th>\n",
       "      <th>Positive</th>\n",
       "    </tr>\n",
       "  </thead>\n",
       "  <tbody>\n",
       "    <tr>\n",
       "      <td>1770</td>\n",
       "      <td>2020-07-12</td>\n",
       "      <td>Maharashtra</td>\n",
       "      <td>1321715.0</td>\n",
       "      <td>1062678.0</td>\n",
       "      <td>259037.0</td>\n",
       "    </tr>\n",
       "    <tr>\n",
       "      <td>1769</td>\n",
       "      <td>2020-07-11</td>\n",
       "      <td>Maharashtra</td>\n",
       "      <td>1289325.0</td>\n",
       "      <td>1037883.0</td>\n",
       "      <td>251442.0</td>\n",
       "    </tr>\n",
       "    <tr>\n",
       "      <td>1768</td>\n",
       "      <td>2020-07-10</td>\n",
       "      <td>Maharashtra</td>\n",
       "      <td>1257564.0</td>\n",
       "      <td>1014697.0</td>\n",
       "      <td>242867.0</td>\n",
       "    </tr>\n",
       "    <tr>\n",
       "      <td>1767</td>\n",
       "      <td>2020-07-09</td>\n",
       "      <td>Maharashtra</td>\n",
       "      <td>1225831.0</td>\n",
       "      <td>990978.0</td>\n",
       "      <td>234853.0</td>\n",
       "    </tr>\n",
       "    <tr>\n",
       "      <td>1766</td>\n",
       "      <td>2020-07-08</td>\n",
       "      <td>Maharashtra</td>\n",
       "      <td>1194565.0</td>\n",
       "      <td>966881.0</td>\n",
       "      <td>227684.0</td>\n",
       "    </tr>\n",
       "    <tr>\n",
       "      <td>1765</td>\n",
       "      <td>2020-07-07</td>\n",
       "      <td>Maharashtra</td>\n",
       "      <td>1164860.0</td>\n",
       "      <td>944044.0</td>\n",
       "      <td>220816.0</td>\n",
       "    </tr>\n",
       "    <tr>\n",
       "      <td>1764</td>\n",
       "      <td>2020-07-06</td>\n",
       "      <td>Maharashtra</td>\n",
       "      <td>1138706.0</td>\n",
       "      <td>922627.0</td>\n",
       "      <td>216079.0</td>\n",
       "    </tr>\n",
       "    <tr>\n",
       "      <td>1763</td>\n",
       "      <td>2020-07-05</td>\n",
       "      <td>Maharashtra</td>\n",
       "      <td>1116112.0</td>\n",
       "      <td>905891.0</td>\n",
       "      <td>210221.0</td>\n",
       "    </tr>\n",
       "    <tr>\n",
       "      <td>1762</td>\n",
       "      <td>2020-07-04</td>\n",
       "      <td>Maharashtra</td>\n",
       "      <td>1085160.0</td>\n",
       "      <td>881344.0</td>\n",
       "      <td>203816.0</td>\n",
       "    </tr>\n",
       "    <tr>\n",
       "      <td>1761</td>\n",
       "      <td>2020-07-03</td>\n",
       "      <td>Maharashtra</td>\n",
       "      <td>1052643.0</td>\n",
       "      <td>856238.0</td>\n",
       "      <td>196405.0</td>\n",
       "    </tr>\n",
       "  </tbody>\n",
       "</table>\n",
       "</div>"
      ],
      "text/plain": [
       "            Date        State  TotalSamples   Negative  Positive\n",
       "1770  2020-07-12  Maharashtra     1321715.0  1062678.0  259037.0\n",
       "1769  2020-07-11  Maharashtra     1289325.0  1037883.0  251442.0\n",
       "1768  2020-07-10  Maharashtra     1257564.0  1014697.0  242867.0\n",
       "1767  2020-07-09  Maharashtra     1225831.0   990978.0  234853.0\n",
       "1766  2020-07-08  Maharashtra     1194565.0   966881.0  227684.0\n",
       "1765  2020-07-07  Maharashtra     1164860.0   944044.0  220816.0\n",
       "1764  2020-07-06  Maharashtra     1138706.0   922627.0  216079.0\n",
       "1763  2020-07-05  Maharashtra     1116112.0   905891.0  210221.0\n",
       "1762  2020-07-04  Maharashtra     1085160.0   881344.0  203816.0\n",
       "1761  2020-07-03  Maharashtra     1052643.0   856238.0  196405.0"
      ]
     },
     "execution_count": 100,
     "metadata": {},
     "output_type": "execute_result"
    }
   ],
   "source": [
    "# sort the dataset by number of positive cases\n",
    "\n",
    "df_test.sort_values(by='Positive', ascending = False)[:10]"
   ]
  },
  {
   "cell_type": "code",
   "execution_count": 97,
   "metadata": {},
   "outputs": [
    {
     "data": {
      "text/plain": [
       "<matplotlib.axes._subplots.AxesSubplot at 0x1bacc4a9f48>"
      ]
     },
     "execution_count": 97,
     "metadata": {},
     "output_type": "execute_result"
    },
    {
     "data": {
      "image/png": "[encoded data removed]",
      "text/plain": [
       "<Figure size 1008x648 with 1 Axes>"
      ]
     },
     "metadata": {
      "needs_background": "light"
     },
     "output_type": "display_data"
    }
   ],
   "source": [
    "# plot the graph for total number of positive sample\n",
    "\n",
    "df_test.sort_values(by=\"Positive\", ascending=False)[1:36].plot(x='State',y='Positive',kind='bar', figsize=(14,9))\n"
   ]
  },
  {
   "cell_type": "markdown",
   "metadata": {},
   "source": [
    "- **Maharashtra has 259037 positive sample out of 1321715.0 on 12/07/2020**\n"
   ]
  },
  {
   "cell_type": "code",
   "execution_count": 101,
   "metadata": {},
   "outputs": [
    {
     "data": {
      "text/html": [
       "<div>\n",
       "<style scoped>\n",
       "    .dataframe tbody tr th:only-of-type {\n",
       "        vertical-align: middle;\n",
       "    }\n",
       "\n",
       "    .dataframe tbody tr th {\n",
       "        vertical-align: top;\n",
       "    }\n",
       "\n",
       "    .dataframe thead th {\n",
       "        text-align: right;\n",
       "    }\n",
       "</style>\n",
       "<table border=\"1\" class=\"dataframe\">\n",
       "  <thead>\n",
       "    <tr style=\"text-align: right;\">\n",
       "      <th></th>\n",
       "      <th>Date</th>\n",
       "      <th>State</th>\n",
       "      <th>TotalSamples</th>\n",
       "      <th>Negative</th>\n",
       "      <th>Positive</th>\n",
       "    </tr>\n",
       "  </thead>\n",
       "  <tbody>\n",
       "    <tr>\n",
       "      <td>151</td>\n",
       "      <td>2020-07-12</td>\n",
       "      <td>Andhra Pradesh</td>\n",
       "      <td>1153849.0</td>\n",
       "      <td>1124681.0</td>\n",
       "      <td>29168.0</td>\n",
       "    </tr>\n",
       "    <tr>\n",
       "      <td>150</td>\n",
       "      <td>2020-07-11</td>\n",
       "      <td>Andhra Pradesh</td>\n",
       "      <td>1136225.0</td>\n",
       "      <td>1108990.0</td>\n",
       "      <td>27235.0</td>\n",
       "    </tr>\n",
       "    <tr>\n",
       "      <td>149</td>\n",
       "      <td>2020-07-10</td>\n",
       "      <td>Andhra Pradesh</td>\n",
       "      <td>1115635.0</td>\n",
       "      <td>1090213.0</td>\n",
       "      <td>25422.0</td>\n",
       "    </tr>\n",
       "    <tr>\n",
       "      <td>2604</td>\n",
       "      <td>2020-06-30</td>\n",
       "      <td>Tamil Nadu</td>\n",
       "      <td>1170683.0</td>\n",
       "      <td>1080516.0</td>\n",
       "      <td>90167.0</td>\n",
       "    </tr>\n",
       "    <tr>\n",
       "      <td>148</td>\n",
       "      <td>2020-07-09</td>\n",
       "      <td>Andhra Pradesh</td>\n",
       "      <td>1094615.0</td>\n",
       "      <td>1070801.0</td>\n",
       "      <td>23814.0</td>\n",
       "    </tr>\n",
       "    <tr>\n",
       "      <td>1770</td>\n",
       "      <td>2020-07-12</td>\n",
       "      <td>Maharashtra</td>\n",
       "      <td>1321715.0</td>\n",
       "      <td>1062678.0</td>\n",
       "      <td>259037.0</td>\n",
       "    </tr>\n",
       "    <tr>\n",
       "      <td>147</td>\n",
       "      <td>2020-07-08</td>\n",
       "      <td>Andhra Pradesh</td>\n",
       "      <td>1077733.0</td>\n",
       "      <td>1055474.0</td>\n",
       "      <td>22259.0</td>\n",
       "    </tr>\n",
       "    <tr>\n",
       "      <td>2603</td>\n",
       "      <td>2020-06-29</td>\n",
       "      <td>Tamil Nadu</td>\n",
       "      <td>1140441.0</td>\n",
       "      <td>1054217.0</td>\n",
       "      <td>86224.0</td>\n",
       "    </tr>\n",
       "    <tr>\n",
       "      <td>1769</td>\n",
       "      <td>2020-07-11</td>\n",
       "      <td>Maharashtra</td>\n",
       "      <td>1289325.0</td>\n",
       "      <td>1037883.0</td>\n",
       "      <td>251442.0</td>\n",
       "    </tr>\n",
       "    <tr>\n",
       "      <td>146</td>\n",
       "      <td>2020-07-07</td>\n",
       "      <td>Andhra Pradesh</td>\n",
       "      <td>1050090.0</td>\n",
       "      <td>1028897.0</td>\n",
       "      <td>21197.0</td>\n",
       "    </tr>\n",
       "  </tbody>\n",
       "</table>\n",
       "</div>"
      ],
      "text/plain": [
       "            Date           State  TotalSamples   Negative  Positive\n",
       "151   2020-07-12  Andhra Pradesh     1153849.0  1124681.0   29168.0\n",
       "150   2020-07-11  Andhra Pradesh     1136225.0  1108990.0   27235.0\n",
       "149   2020-07-10  Andhra Pradesh     1115635.0  1090213.0   25422.0\n",
       "2604  2020-06-30      Tamil Nadu     1170683.0  1080516.0   90167.0\n",
       "148   2020-07-09  Andhra Pradesh     1094615.0  1070801.0   23814.0\n",
       "1770  2020-07-12     Maharashtra     1321715.0  1062678.0  259037.0\n",
       "147   2020-07-08  Andhra Pradesh     1077733.0  1055474.0   22259.0\n",
       "2603  2020-06-29      Tamil Nadu     1140441.0  1054217.0   86224.0\n",
       "1769  2020-07-11     Maharashtra     1289325.0  1037883.0  251442.0\n",
       "146   2020-07-07  Andhra Pradesh     1050090.0  1028897.0   21197.0"
      ]
     },
     "execution_count": 101,
     "metadata": {},
     "output_type": "execute_result"
    }
   ],
   "source": [
    "# sort the dataset by number of Negative cases\n",
    "\n",
    "df_test.sort_values(by='Negative', ascending = False)[:10]"
   ]
  },
  {
   "cell_type": "code",
   "execution_count": 99,
   "metadata": {},
   "outputs": [
    {
     "data": {
      "text/plain": [
       "<matplotlib.axes._subplots.AxesSubplot at 0x1bacc7ae708>"
      ]
     },
     "execution_count": 99,
     "metadata": {},
     "output_type": "execute_result"
    },
    {
     "data": {
      "image/png": "[encoded data removed]",
      "text/plain": [
       "<Figure size 1008x648 with 1 Axes>"
      ]
     },
     "metadata": {
      "needs_background": "light"
     },
     "output_type": "display_data"
    }
   ],
   "source": [
    "# plot the graph for total number of negative sample\n",
    "\n",
    "df_test.sort_values(by=\"Negative\", ascending=False)[1:36].plot(x='State',y='Negative',kind='bar', figsize=(14,9))\n"
   ]
  },
  {
   "cell_type": "markdown",
   "metadata": {},
   "source": [
    "- From above dataset we conclude  that - \n",
    "- **Maharashtra has 1062678.0 negative sample out of 1321715.0 on 12/07/2020** "
   ]
  },
  {
   "cell_type": "markdown",
   "metadata": {},
   "source": [
    "### we are going to analyis the Maharastra cases.\n",
    "- **Maharastra has max total Sample on 12/07/2020**"
   ]
  },
  {
   "cell_type": "code",
   "execution_count": 44,
   "metadata": {},
   "outputs": [],
   "source": [
    "# consider for date 12/07/2020\n",
    "\n",
    "df_test_date = df_test[df_test['Date'] == '2020-07-12']\n"
   ]
  },
  {
   "cell_type": "code",
   "execution_count": 45,
   "metadata": {},
   "outputs": [],
   "source": [
    "# make a df for state Maharastra for date 12/07/2020\n",
    "\n",
    "df_test_maha = df_test_date[df_test_date[\"State\"]=='Maharashtra']"
   ]
  },
  {
   "cell_type": "code",
   "execution_count": 46,
   "metadata": {},
   "outputs": [
    {
     "data": {
      "text/plain": [
       "1321715.0"
      ]
     },
     "execution_count": 46,
     "metadata": {},
     "output_type": "execute_result"
    }
   ],
   "source": [
    "# Maximum total sample for Maharastra on date 12/07/2020\n",
    "\n",
    "df_test_maha['TotalSamples'].max()"
   ]
  },
  {
   "cell_type": "markdown",
   "metadata": {},
   "source": [
    " - **Maximum total sample for Maharastra on date 12/07/2020 are 1321715.0**\n"
   ]
  },
  {
   "cell_type": "code",
   "execution_count": 47,
   "metadata": {},
   "outputs": [
    {
     "data": {
      "text/plain": [
       "259037.0"
      ]
     },
     "execution_count": 47,
     "metadata": {},
     "output_type": "execute_result"
    }
   ],
   "source": [
    "# Maximum total Positive sample for Maharastra on date 12/07/2020\n",
    "\n",
    "df_test_maha['Positive'].max()"
   ]
  },
  {
   "cell_type": "markdown",
   "metadata": {},
   "source": [
    "- **Maximum total Positive sample for Maharastra on date 12/07/2020 are 259037.0**\n",
    "\n"
   ]
  },
  {
   "cell_type": "code",
   "execution_count": 102,
   "metadata": {},
   "outputs": [
    {
     "data": {
      "text/plain": [
       "1062678.0"
      ]
     },
     "execution_count": 102,
     "metadata": {},
     "output_type": "execute_result"
    }
   ],
   "source": [
    "# Maximum total Negative sample for Maharastra on date 12/07/2020\n",
    "\n",
    "df_test_maha['Negative'].max()"
   ]
  },
  {
   "cell_type": "markdown",
   "metadata": {},
   "source": [
    "- **Maximum total Negative sample for Maharastra on date 12/07/2020 are 1062678.0**\n",
    "\n",
    "\n"
   ]
  },
  {
   "cell_type": "markdown",
   "metadata": {},
   "source": [
    "### Q9) What percent of people are tested positive and negative?"
   ]
  },
  {
   "cell_type": "code",
   "execution_count": 49,
   "metadata": {},
   "outputs": [
    {
     "data": {
      "text/plain": [
       "19.598551881457045"
      ]
     },
     "execution_count": 49,
     "metadata": {},
     "output_type": "execute_result"
    }
   ],
   "source": [
    "# Total Percentage of being positive\n",
    "\n",
    "(df_test_maha['Positive'].max()/df_test_maha['TotalSamples'].max())*100"
   ]
  },
  {
   "cell_type": "markdown",
   "metadata": {},
   "source": [
    "- **Hence, Total Percentage of being Positive are 19.5985 %**"
   ]
  },
  {
   "cell_type": "code",
   "execution_count": 50,
   "metadata": {},
   "outputs": [
    {
     "data": {
      "text/plain": [
       "80.40144811854294"
      ]
     },
     "execution_count": 50,
     "metadata": {},
     "output_type": "execute_result"
    }
   ],
   "source": [
    "# Total Percentage of being Negative\n",
    "\n",
    "(df_test_maha['Negative'].max()/df_test_maha['TotalSamples'].max())*100"
   ]
  },
  {
   "cell_type": "markdown",
   "metadata": {},
   "source": [
    "- **Hence, Total Percentage of being Negative are 80.401 %**"
   ]
  },
  {
   "cell_type": "code",
   "execution_count": 51,
   "metadata": {},
   "outputs": [
    {
     "data": {
      "image/png": "[encoded data removed]",
      "text/plain": [
       "<Figure size 720x576 with 3 Axes>"
      ]
     },
     "metadata": {
      "needs_background": "light"
     },
     "output_type": "display_data"
    }
   ],
   "source": [
    "\n",
    "df_line = df_test.plot.line(subplots = True, figsize=(10,8))"
   ]
  },
  {
   "cell_type": "code",
   "execution_count": null,
   "metadata": {},
   "outputs": [],
   "source": []
  },
  {
   "cell_type": "code",
   "execution_count": null,
   "metadata": {},
   "outputs": [],
   "source": []
  },
  {
   "cell_type": "code",
   "execution_count": null,
   "metadata": {},
   "outputs": [],
   "source": []
  },
  {
   "cell_type": "code",
   "execution_count": null,
   "metadata": {},
   "outputs": [],
   "source": [
    "\n"
   ]
  },
  {
   "cell_type": "code",
   "execution_count": 52,
   "metadata": {},
   "outputs": [
    {
     "data": {
      "text/plain": [
       "80.40144811854294"
      ]
     },
     "execution_count": 52,
     "metadata": {},
     "output_type": "execute_result"
    }
   ],
   "source": [
    "(df_test_maha['Negative'].max()/df_test_maha['TotalSamples'].max())*100"
   ]
  },
  {
   "cell_type": "code",
   "execution_count": null,
   "metadata": {},
   "outputs": [],
   "source": []
  },
  {
   "cell_type": "code",
   "execution_count": null,
   "metadata": {},
   "outputs": [],
   "source": []
  },
  {
   "cell_type": "code",
   "execution_count": null,
   "metadata": {},
   "outputs": [],
   "source": []
  },
  {
   "cell_type": "code",
   "execution_count": null,
   "metadata": {},
   "outputs": [],
   "source": []
  },
  {
   "cell_type": "code",
   "execution_count": null,
   "metadata": {},
   "outputs": [],
   "source": []
  },
  {
   "cell_type": "code",
   "execution_count": null,
   "metadata": {},
   "outputs": [],
   "source": []
  },
  {
   "cell_type": "code",
   "execution_count": 93,
   "metadata": {},
   "outputs": [
    {
     "data": {
      "text/plain": [
       "Text(0, 0.5, 'Number of cases')"
      ]
     },
     "execution_count": 93,
     "metadata": {},
     "output_type": "execute_result"
    },
    {
     "data": {
      "image/png": "[encoded data removed]",
      "text/plain": [
       "<Figure size 720x432 with 1 Axes>"
      ]
     },
     "metadata": {
      "needs_background": "light"
     },
     "output_type": "display_data"
    }
   ],
   "source": [
    "covid_mh = df[df['State/UnionTerritory'] == \"Maharashtra\"].plot(x = \"Date\", y = \"Confirmed\", figsize = (10,6), fontsize = 16)\n",
    "\n",
    "covid_mh.set_title(\"Number of cases increaes in Maharastra Day by Day\", fontsize=20)\n",
    "covid_mh.set_xlabel(\"Dates\", fontsize = 20)\n",
    "covid_mh.set_ylabel(\"Number of cases\", fontsize= 20)"
   ]
  },
  {
   "cell_type": "code",
   "execution_count": 57,
   "metadata": {},
   "outputs": [
    {
     "data": {
      "text/plain": [
       "Text(0, 0.5, 'Number of cases')"
      ]
     },
     "execution_count": 57,
     "metadata": {},
     "output_type": "execute_result"
    },
    {
     "data": {
      "image/png": "[encoded data removed]",
      "text/plain": [
       "<Figure size 720x432 with 1 Axes>"
      ]
     },
     "metadata": {
      "needs_background": "light"
     },
     "output_type": "display_data"
    }
   ],
   "source": [
    "covid_dh = df[df['State/UnionTerritory']== 'Delhi'].plot(x =  \"Date\", y = \"Confirmed\", figsize = (10,6), fontsize = 16)\n",
    "\n",
    "covid_dh.set_title(\"Number of cases increaes in Delhi Day by Day\", fontsize=20)\n",
    "covid_dh.set_xlabel(\"Dates\", fontsize = 20)\n",
    "covid_dh.set_ylabel(\"Number of cases\", fontsize= 20)\n"
   ]
  },
  {
   "cell_type": "code",
   "execution_count": 58,
   "metadata": {},
   "outputs": [
    {
     "data": {
      "text/plain": [
       "Text(0, 0.5, 'Number of cases')"
      ]
     },
     "execution_count": 58,
     "metadata": {},
     "output_type": "execute_result"
    },
    {
     "data": {
      "image/png": "[encoded data removed]",
      "text/plain": [
       "<Figure size 720x432 with 1 Axes>"
      ]
     },
     "metadata": {
      "needs_background": "light"
     },
     "output_type": "display_data"
    }
   ],
   "source": [
    "covid_mani = df[df['State/UnionTerritory']== 'Manipur'].plot(x =  \"Date\", y = \"Confirmed\", figsize = (10,6), fontsize = 16)\n",
    "\n",
    "covid_mani.set_title(\"Number of cases increaes in Manipur Day by Day\", fontsize=20)\n",
    "covid_mani.set_xlabel(\"Dates\", fontsize = 20)\n",
    "covid_mani.set_ylabel(\"Number of cases\", fontsize= 20)"
   ]
  },
  {
   "cell_type": "code",
   "execution_count": 59,
   "metadata": {},
   "outputs": [
    {
     "data": {
      "text/plain": [
       "Text(0, 0.5, 'No. of cases')"
      ]
     },
     "execution_count": 59,
     "metadata": {},
     "output_type": "execute_result"
    },
    {
     "data": {
      "image/png": "[encoded data removed]",
      "text/plain": [
       "<Figure size 720x432 with 1 Axes>"
      ]
     },
     "metadata": {
      "needs_background": "light"
     },
     "output_type": "display_data"
    }
   ],
   "source": [
    "#graph showing Goa not having new cases in april month\n",
    "goa=df[df['State/UnionTerritory']=='Goa'].plot(x='Date',y='Confirmed',figsize = (10,6),fontsize=16)\n",
    "goa.legend_.remove()\n",
    "goa.set_title(\"Goa\", fontsize=20)\n",
    "goa.set_xlabel('Dates', fontsize=20)\n",
    "goa.set_ylabel('No. of cases', fontsize=20)"
   ]
  },
  {
   "cell_type": "code",
   "execution_count": null,
   "metadata": {},
   "outputs": [],
   "source": []
  },
  {
   "cell_type": "code",
   "execution_count": null,
   "metadata": {},
   "outputs": [],
   "source": []
  },
  {
   "cell_type": "code",
   "execution_count": null,
   "metadata": {},
   "outputs": [],
   "source": []
  },
  {
   "cell_type": "code",
   "execution_count": null,
   "metadata": {},
   "outputs": [],
   "source": []
  },
  {
   "cell_type": "code",
   "execution_count": null,
   "metadata": {},
   "outputs": [],
   "source": []
  },
  {
   "cell_type": "code",
   "execution_count": null,
   "metadata": {},
   "outputs": [],
   "source": []
  },
  {
   "cell_type": "code",
   "execution_count": null,
   "metadata": {},
   "outputs": [],
   "source": []
  },
  {
   "cell_type": "code",
   "execution_count": null,
   "metadata": {},
   "outputs": [],
   "source": []
  },
  {
   "cell_type": "code",
   "execution_count": null,
   "metadata": {},
   "outputs": [],
   "source": []
  },
  {
   "cell_type": "code",
   "execution_count": null,
   "metadata": {},
   "outputs": [],
   "source": []
  },
  {
   "cell_type": "code",
   "execution_count": null,
   "metadata": {},
   "outputs": [],
   "source": []
  },
  {
   "cell_type": "code",
   "execution_count": null,
   "metadata": {},
   "outputs": [],
   "source": []
  },
  {
   "cell_type": "code",
   "execution_count": null,
   "metadata": {},
   "outputs": [],
   "source": []
  },
  {
   "cell_type": "code",
   "execution_count": null,
   "metadata": {},
   "outputs": [],
   "source": []
  },
  {
   "cell_type": "code",
   "execution_count": null,
   "metadata": {},
   "outputs": [],
   "source": []
  },
  {
   "cell_type": "code",
   "execution_count": null,
   "metadata": {},
   "outputs": [],
   "source": []
  },
  {
   "cell_type": "code",
   "execution_count": null,
   "metadata": {},
   "outputs": [],
   "source": []
  }
 ],
 "metadata": {
  "kernelspec": {
   "display_name": "Python 3",
   "language": "python",
   "name": "python3"
  },
  "language_info": {
   "codemirror_mode": {
    "name": "ipython",
    "version": 3
   },
   "file_extension": ".py",
   "mimetype": "text/x-python",
   "name": "python",
   "nbconvert_exporter": "python",
   "pygments_lexer": "ipython3",
   "version": "3.7.4"
  },
  "toc": {
   "base_numbering": 1,
   "nav_menu": {},
   "number_sections": true,
   "sideBar": true,
   "skip_h1_title": false,
   "title_cell": "Table of Contents",
   "title_sidebar": "Contents",
   "toc_cell": false,
   "toc_position": {},
   "toc_section_display": true,
   "toc_window_display": true
  },
  "varInspector": {
   "cols": {
    "lenName": 16,
    "lenType": 16,
    "lenVar": 40
   },
   "kernels_config": {
    "python": {
     "delete_cmd_postfix": "",
     "delete_cmd_prefix": "del ",
     "library": "var_list.py",
     "varRefreshCmd": "print(var_dic_list())"
    },
    "r": {
     "delete_cmd_postfix": ") ",
     "delete_cmd_prefix": "rm(",
     "library": "var_list.r",
     "varRefreshCmd": "cat(var_dic_list()) "
    }
   },
   "types_to_exclude": [
    "module",
    "function",
    "builtin_function_or_method",
    "instance",
    "_Feature"
   ],
   "window_display": false
  }
 },
 "nbformat": 4,
 "nbformat_minor": 4
}
